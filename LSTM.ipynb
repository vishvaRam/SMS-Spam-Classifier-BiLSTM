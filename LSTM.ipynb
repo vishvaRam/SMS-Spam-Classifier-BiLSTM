{
 "cells": [
  {
   "cell_type": "markdown",
   "id": "6b3be255-be87-4622-8364-50771ee7ba5a",
   "metadata": {
    "tags": []
   },
   "source": [
    "# Email Spam Classifier using LSTM"
   ]
  },
  {
   "cell_type": "code",
   "execution_count": 1,
   "id": "1f855b8a-41a4-47ee-a432-82cf86b5e4da",
   "metadata": {
    "tags": []
   },
   "outputs": [],
   "source": [
    "import pandas as pd\n",
    "from sklearn.model_selection import train_test_split\n",
    "from tensorflow.keras.preprocessing.text import Tokenizer\n",
    "from tensorflow.keras.preprocessing.sequence import pad_sequences\n",
    "from tensorflow.keras.models import Sequential\n",
    "from tensorflow.keras.layers import Embedding, LSTM, Dense,GlobalAveragePooling1D,Dropout,Bidirectional\n",
    "from tensorflow.keras.callbacks import EarlyStopping\n",
    "import seaborn as sns\n",
    "from nltk.corpus import stopwords \n",
    "import matplotlib.pyplot as plt\n",
    "import pickle\n",
    "import numpy as np"
   ]
  },
  {
   "cell_type": "code",
   "execution_count": 2,
   "id": "f2934f64-0889-40ec-bf1e-39596b51b5c1",
   "metadata": {
    "tags": []
   },
   "outputs": [],
   "source": [
    "df = pd.read_csv('spam.csv',encoding='ISO-8859-1')"
   ]
  },
  {
   "cell_type": "code",
   "execution_count": 3,
   "id": "ba414504-67b4-4817-9d92-70a7a0cbfe87",
   "metadata": {
    "tags": []
   },
   "outputs": [],
   "source": [
    "unwanted = ['Unnamed: 2', 'Unnamed: 3', 'Unnamed: 4']\n",
    "\n",
    "df.drop(unwanted,axis =1,inplace=True)"
   ]
  },
  {
   "cell_type": "code",
   "execution_count": 4,
   "id": "aac25972-80e4-4adc-bf81-4a3b91bdab00",
   "metadata": {
    "tags": []
   },
   "outputs": [
    {
     "data": {
      "text/html": [
       "<div>\n",
       "<style scoped>\n",
       "    .dataframe tbody tr th:only-of-type {\n",
       "        vertical-align: middle;\n",
       "    }\n",
       "\n",
       "    .dataframe tbody tr th {\n",
       "        vertical-align: top;\n",
       "    }\n",
       "\n",
       "    .dataframe thead th {\n",
       "        text-align: right;\n",
       "    }\n",
       "</style>\n",
       "<table border=\"1\" class=\"dataframe\">\n",
       "  <thead>\n",
       "    <tr style=\"text-align: right;\">\n",
       "      <th></th>\n",
       "      <th>v1</th>\n",
       "      <th>v2</th>\n",
       "    </tr>\n",
       "  </thead>\n",
       "  <tbody>\n",
       "    <tr>\n",
       "      <th>0</th>\n",
       "      <td>ham</td>\n",
       "      <td>Go until jurong point, crazy.. Available only ...</td>\n",
       "    </tr>\n",
       "    <tr>\n",
       "      <th>1</th>\n",
       "      <td>ham</td>\n",
       "      <td>Ok lar... Joking wif u oni...</td>\n",
       "    </tr>\n",
       "    <tr>\n",
       "      <th>2</th>\n",
       "      <td>spam</td>\n",
       "      <td>Free entry in 2 a wkly comp to win FA Cup fina...</td>\n",
       "    </tr>\n",
       "    <tr>\n",
       "      <th>3</th>\n",
       "      <td>ham</td>\n",
       "      <td>U dun say so early hor... U c already then say...</td>\n",
       "    </tr>\n",
       "    <tr>\n",
       "      <th>4</th>\n",
       "      <td>ham</td>\n",
       "      <td>Nah I don't think he goes to usf, he lives aro...</td>\n",
       "    </tr>\n",
       "  </tbody>\n",
       "</table>\n",
       "</div>"
      ],
      "text/plain": [
       "     v1                                                 v2\n",
       "0   ham  Go until jurong point, crazy.. Available only ...\n",
       "1   ham                      Ok lar... Joking wif u oni...\n",
       "2  spam  Free entry in 2 a wkly comp to win FA Cup fina...\n",
       "3   ham  U dun say so early hor... U c already then say...\n",
       "4   ham  Nah I don't think he goes to usf, he lives aro..."
      ]
     },
     "execution_count": 4,
     "metadata": {},
     "output_type": "execute_result"
    }
   ],
   "source": [
    "df.head()"
   ]
  },
  {
   "cell_type": "code",
   "execution_count": 5,
   "id": "f19ad1e8-113d-4507-b0a7-1ddf4f5a2504",
   "metadata": {
    "tags": []
   },
   "outputs": [],
   "source": [
    "df.rename(columns={'v1':'label','v2':'text'},inplace=True)"
   ]
  },
  {
   "cell_type": "code",
   "execution_count": 6,
   "id": "ba60adf4-985a-4292-93ff-c270d8c3a2c8",
   "metadata": {
    "tags": []
   },
   "outputs": [
    {
     "data": {
      "text/plain": [
       "<seaborn.axisgrid.FacetGrid at 0x197c6b2b100>"
      ]
     },
     "execution_count": 6,
     "metadata": {},
     "output_type": "execute_result"
    },
    {
     "data": {
      "image/png": "[encoded data removed]",
      "text/plain": [
       "<Figure size 500x500 with 1 Axes>"
      ]
     },
     "metadata": {},
     "output_type": "display_data"
    }
   ],
   "source": [
    "sns.displot(df.label)"
   ]
  },
  {
   "cell_type": "code",
   "execution_count": 7,
   "id": "c2cec3b4-661d-4d29-ad57-12f8f81f3095",
   "metadata": {
    "tags": []
   },
   "outputs": [],
   "source": [
    "# df_ham = df[df['label']=='ham']\n",
    "# df_spam = df[df['label']=='spam']"
   ]
  },
  {
   "cell_type": "code",
   "execution_count": 27,
   "id": "f1724f96-ae63-4e4d-8f86-3ca445c36e36",
   "metadata": {
    "tags": []
   },
   "outputs": [],
   "source": [
    "# df_downsample = df_ham.sample(df_spam.shape[0])"
   ]
  },
  {
   "cell_type": "code",
   "execution_count": 28,
   "id": "4f20dd22-518b-4a38-8732-de92ef297f9e",
   "metadata": {
    "tags": []
   },
   "outputs": [],
   "source": [
    "# df = pd.concat([df_downsample,df_spam])"
   ]
  },
  {
   "cell_type": "code",
   "execution_count": 29,
   "id": "b8597d7c-f719-44f6-8b6a-5c9cc149c56d",
   "metadata": {
    "tags": []
   },
   "outputs": [
    {
     "data": {
      "text/plain": [
       "<seaborn.axisgrid.FacetGrid at 0x269e0c32880>"
      ]
     },
     "execution_count": 29,
     "metadata": {},
     "output_type": "execute_result"
    },
    {
     "data": {
      "image/png": "[encoded data removed]",
      "text/plain": [
       "<Figure size 500x500 with 1 Axes>"
      ]
     },
     "metadata": {},
     "output_type": "display_data"
    }
   ],
   "source": [
    "sns.displot(df.label)"
   ]
  },
  {
   "cell_type": "code",
   "execution_count": 30,
   "id": "1e5d71e4-67de-4bd5-be20-f1e09f9bf0e3",
   "metadata": {
    "tags": []
   },
   "outputs": [],
   "source": [
    "import nltk\n",
    "nltk.download('stopwords')"
   ]
  },
  {
   "cell_type": "code",
   "execution_count": null,
   "id": "9ae23bd6-3a4e-4dcb-9b51-0ffd496183ab",
   "metadata": {
    "tags": []
   },
   "outputs": [
    {
     "name": "stderr",
     "output_type": "stream",
     "text": [
      "[nltk_data] Error loading punkt: <urlopen error [WinError 10060] A\n",
      "[nltk_data]     connection attempt failed because the connected party\n",
      "[nltk_data]     did not properly respond after a period of time, or\n",
      "[nltk_data]     established connection failed because connected host\n",
      "[nltk_data]     has failed to respond>\n"
     ]
    },
    {
     "data": {
      "text/plain": [
       "False"
      ]
     },
     "execution_count": 12,
     "metadata": {},
     "output_type": "execute_result"
    }
   ],
   "source": [
    "nltk.download('punkt')"
   ]
  },
  {
   "cell_type": "code",
   "execution_count": 8,
   "id": "f98cf81d-11aa-4b32-8584-05c26e0d5fe1",
   "metadata": {
    "tags": []
   },
   "outputs": [],
   "source": [
    "df.drop_duplicates(inplace=True)"
   ]
  },
  {
   "cell_type": "code",
   "execution_count": 9,
   "id": "af183b92-e649-4629-beea-67b38bb321ce",
   "metadata": {
    "tags": []
   },
   "outputs": [],
   "source": [
    "import nltk\n",
    "from nltk.stem.porter import PorterStemmer\n",
    "import re\n",
    "import string\n",
    "\n",
    "pr = PorterStemmer()\n",
    "\n",
    "\n",
    "def process_words(text):    \n",
    "   \n",
    "    # Removing Punctuation\n",
    "    nopun = [chir for chir in text if chir not in string.punctuation]\n",
    "   \n",
    "    # Joining the char into words again\n",
    "    nopun = ''.join(nopun)\n",
    "  \n",
    "    # tokenize the word\n",
    "    token = nltk.word_tokenize(nopun)\n",
    " \n",
    "    # find the root word  ad removing Stop words\n",
    "    with_stem_words = [pr.stem(word) for word in nopun.split() if word.lower() not in stopwords.words('english')]\n",
    "  \n",
    "    return with_stem_words\n",
    "    "
   ]
  },
  {
   "cell_type": "code",
   "execution_count": 10,
   "id": "2c23b8dc-4d99-48a8-94cc-49e6dd68aef6",
   "metadata": {
    "tags": []
   },
   "outputs": [],
   "source": [
    "X = df['text'].apply(process_words)"
   ]
  },
  {
   "cell_type": "code",
   "execution_count": 11,
   "id": "bd646789-ef70-412e-8776-d0efb5292d3a",
   "metadata": {
    "tags": []
   },
   "outputs": [
    {
     "data": {
      "text/plain": [
       "0       [go, jurong, point, crazi, avail, bugi, n, gre...\n",
       "1                            [ok, lar, joke, wif, u, oni]\n",
       "2       [free, entri, 2, wkli, comp, win, fa, cup, fin...\n",
       "3           [u, dun, say, earli, hor, u, c, alreadi, say]\n",
       "4       [nah, dont, think, goe, usf, live, around, tho...\n",
       "                              ...                        \n",
       "5567    [2nd, time, tri, 2, contact, u, u, å£750, poun...\n",
       "5568                       [ì, b, go, esplanad, fr, home]\n",
       "5569                         [piti, mood, soani, suggest]\n",
       "5570    [guy, bitch, act, like, id, interest, buy, som...\n",
       "5571                                   [rofl, true, name]\n",
       "Name: text, Length: 5169, dtype: object"
      ]
     },
     "execution_count": 11,
     "metadata": {},
     "output_type": "execute_result"
    }
   ],
   "source": [
    "X"
   ]
  },
  {
   "cell_type": "code",
   "execution_count": 12,
   "id": "88c428e3-1efa-48f4-b145-c6a26cb3a853",
   "metadata": {
    "tags": []
   },
   "outputs": [],
   "source": [
    "y = df['label'].apply(lambda x : 1 if x=='spam' else 0 )"
   ]
  },
  {
   "cell_type": "code",
   "execution_count": 13,
   "id": "d0914a85-6f99-4b44-bdc8-7f252ed0fb54",
   "metadata": {
    "tags": []
   },
   "outputs": [
    {
     "data": {
      "text/plain": [
       "0       0\n",
       "1       0\n",
       "2       1\n",
       "3       0\n",
       "4       0\n",
       "       ..\n",
       "5567    1\n",
       "5568    0\n",
       "5569    0\n",
       "5570    0\n",
       "5571    0\n",
       "Name: label, Length: 5169, dtype: int64"
      ]
     },
     "execution_count": 13,
     "metadata": {},
     "output_type": "execute_result"
    }
   ],
   "source": [
    "y"
   ]
  },
  {
   "cell_type": "code",
   "execution_count": 14,
   "id": "32b24dc2-5353-4e70-bf06-036b3b46dc34",
   "metadata": {
    "tags": []
   },
   "outputs": [],
   "source": [
    "X_train, X_test, y_train, y_test = train_test_split(X, y, test_size=0.2, random_state=42)\n"
   ]
  },
  {
   "cell_type": "code",
   "execution_count": 15,
   "id": "520cb896-6a1d-4fc1-b952-cbf2f385286b",
   "metadata": {
    "tags": []
   },
   "outputs": [],
   "source": [
    "# Define parameters\n",
    "vocab_size = 10000 # number of words in the vocabulary\n",
    "max_len = 100 # maximum length of each sequence\n",
    "embedding_dim = 64 # dimension of the word embeddings\n",
    "oov_tok = \"<OOV>\" # token for out-of-vocabulary words\n",
    "\n",
    "# Create tokenizer and fit on training data\n",
    "tokenizer = Tokenizer(num_words=vocab_size, oov_token=oov_tok)\n",
    "tokenizer.fit_on_texts(X_train)"
   ]
  },
  {
   "cell_type": "markdown",
   "id": "2afeeaff-8cf8-4f5d-be06-6f503d3f252b",
   "metadata": {},
   "source": [
    "## Saving the tokenizer for predection"
   ]
  },
  {
   "cell_type": "code",
   "execution_count": 16,
   "id": "ab821b13-43ed-46ef-af5e-b76e648d08e2",
   "metadata": {
    "tags": []
   },
   "outputs": [],
   "source": [
    "# Save the tokenizer to a file\n",
    "with open('tokenizer.pkl', 'wb') as handle:\n",
    "    pickle.dump(tokenizer, handle, protocol=pickle.HIGHEST_PROTOCOL)\n",
    "\n",
    "# # Load the tokenizer from the file\n",
    "# with open('tokenizer.pkl', 'rb') as handle:\n",
    "#     tokenizer = pickle.load(handle)"
   ]
  },
  {
   "cell_type": "code",
   "execution_count": 17,
   "id": "e416f456-3221-413f-afd1-65b113609de1",
   "metadata": {
    "tags": []
   },
   "outputs": [
    {
     "data": {
      "text/plain": [
       "2228                                      [exact, intent]\n",
       "5529                                                [one]\n",
       "2149                     [waaaat, lololo, ok, next, time]\n",
       "5058    [free, video, camera, phone, half, price, line...\n",
       "5051    [tick, tick, tick, could, die, loneli, know, p...\n",
       "                              ...                        \n",
       "4740    [mani, happi, return, day, wish, happi, birthday]\n",
       "474     [nice, line, said, broken, heart, plz, dont, c...\n",
       "3266                        [ok, come, n, pick, u, engin]\n",
       "4016    [eek, that, lot, time, especi, sinc, american,...\n",
       "879     [u, secret, admir, look, 2, make, contact, ufi...\n",
       "Name: text, Length: 4135, dtype: object"
      ]
     },
     "execution_count": 17,
     "metadata": {},
     "output_type": "execute_result"
    }
   ],
   "source": [
    "X_train"
   ]
  },
  {
   "cell_type": "code",
   "execution_count": 18,
   "id": "a4c8e787-a59c-4988-91a5-28bdc814ad28",
   "metadata": {
    "tags": []
   },
   "outputs": [],
   "source": [
    "\n",
    "# Convert text to sequences and pad them\n",
    "X_train_seq = tokenizer.texts_to_sequences(X_train)\n",
    "X_train_pad = pad_sequences(X_train_seq, maxlen=max_len, padding='post', truncating='post')\n"
   ]
  },
  {
   "cell_type": "code",
   "execution_count": 19,
   "id": "0ec80c03-7f9b-46ed-bc1a-162b19babe0f",
   "metadata": {
    "tags": []
   },
   "outputs": [
    {
     "data": {
      "text/plain": [
       "[1253, 1926]"
      ]
     },
     "execution_count": 19,
     "metadata": {},
     "output_type": "execute_result"
    }
   ],
   "source": [
    "X_train_seq[0]"
   ]
  },
  {
   "cell_type": "code",
   "execution_count": 20,
   "id": "52c18744-8288-4553-a7e4-1df5436564c9",
   "metadata": {
    "tags": []
   },
   "outputs": [
    {
     "data": {
      "text/plain": [
       "array([1253, 1926,    0,    0,    0,    0,    0,    0,    0,    0,    0,\n",
       "          0,    0,    0,    0,    0,    0,    0,    0,    0,    0,    0,\n",
       "          0,    0,    0,    0,    0,    0,    0,    0,    0,    0,    0,\n",
       "          0,    0,    0,    0,    0,    0,    0,    0,    0,    0,    0,\n",
       "          0,    0,    0,    0,    0,    0,    0,    0,    0,    0,    0,\n",
       "          0,    0,    0,    0,    0,    0,    0,    0,    0,    0,    0,\n",
       "          0,    0,    0,    0,    0,    0,    0,    0,    0,    0,    0,\n",
       "          0,    0,    0,    0,    0,    0,    0,    0,    0,    0,    0,\n",
       "          0,    0,    0,    0,    0,    0,    0,    0,    0,    0,    0,\n",
       "          0])"
      ]
     },
     "execution_count": 20,
     "metadata": {},
     "output_type": "execute_result"
    }
   ],
   "source": [
    "X_train_pad[0]"
   ]
  },
  {
   "cell_type": "code",
   "execution_count": 21,
   "id": "95d428f9-3e0a-4830-ad89-9d0cf2a46904",
   "metadata": {
    "tags": []
   },
   "outputs": [],
   "source": [
    "X_test_seq = tokenizer.texts_to_sequences(X_test)\n",
    "X_test_pad = pad_sequences(X_test_seq, maxlen=max_len, padding='post', truncating='post')"
   ]
  },
  {
   "cell_type": "code",
   "execution_count": 22,
   "id": "95f4f5ce-6cb0-4f6d-ad78-a99f42243814",
   "metadata": {
    "tags": []
   },
   "outputs": [
    {
     "data": {
      "text/plain": [
       "array([   2,  492, 2495,  988,    0,    0,    0,    0,    0,    0,    0,\n",
       "          0,    0,    0,    0,    0,    0,    0,    0,    0,    0,    0,\n",
       "          0,    0,    0,    0,    0,    0,    0,    0,    0,    0,    0,\n",
       "          0,    0,    0,    0,    0,    0,    0,    0,    0,    0,    0,\n",
       "          0,    0,    0,    0,    0,    0,    0,    0,    0,    0,    0,\n",
       "          0,    0,    0,    0,    0,    0,    0,    0,    0,    0,    0,\n",
       "          0,    0,    0,    0,    0,    0,    0,    0,    0,    0,    0,\n",
       "          0,    0,    0,    0,    0,    0,    0,    0,    0,    0,    0,\n",
       "          0,    0,    0,    0,    0,    0,    0,    0,    0,    0,    0,\n",
       "          0])"
      ]
     },
     "execution_count": 22,
     "metadata": {},
     "output_type": "execute_result"
    }
   ],
   "source": [
    "X_test_pad[0]"
   ]
  },
  {
   "cell_type": "code",
   "execution_count": 23,
   "id": "ea34ae29-3dc9-4a62-b199-12a27065cbec",
   "metadata": {
    "tags": []
   },
   "outputs": [],
   "source": [
    "model = Sequential()\n",
    "model.add(Embedding(vocab_size, 32, input_length=max_len))\n",
    "model.add(GlobalAveragePooling1D())\n",
    "model.add(Dense(32, activation='relu'))\n",
    "model.add(Dropout(0.4))\n",
    "model.add(Dense(12, activation='relu'))\n",
    "model.add(Dropout(0.3))\n",
    "model.add(Dense(1, activation='sigmoid'))\n",
    "\n",
    "model.compile(loss='binary_crossentropy', optimizer='adam', metrics=['accuracy'])\n"
   ]
  },
  {
   "cell_type": "code",
   "execution_count": 24,
   "id": "6072687b-8e1a-4c74-8101-b2d309b21cb0",
   "metadata": {
    "tags": []
   },
   "outputs": [
    {
     "name": "stdout",
     "output_type": "stream",
     "text": [
      "Model: \"sequential\"\n",
      "_________________________________________________________________\n",
      " Layer (type)                Output Shape              Param #   \n",
      "=================================================================\n",
      " embedding (Embedding)       (None, 100, 32)           320000    \n",
      "                                                                 \n",
      " global_average_pooling1d (G  (None, 32)               0         \n",
      " lobalAveragePooling1D)                                          \n",
      "                                                                 \n",
      " dense (Dense)               (None, 32)                1056      \n",
      "                                                                 \n",
      " dropout (Dropout)           (None, 32)                0         \n",
      "                                                                 \n",
      " dense_1 (Dense)             (None, 12)                396       \n",
      "                                                                 \n",
      " dropout_1 (Dropout)         (None, 12)                0         \n",
      "                                                                 \n",
      " dense_2 (Dense)             (None, 1)                 13        \n",
      "                                                                 \n",
      "=================================================================\n",
      "Total params: 321,465\n",
      "Trainable params: 321,465\n",
      "Non-trainable params: 0\n",
      "_________________________________________________________________\n"
     ]
    }
   ],
   "source": [
    "model.summary()"
   ]
  },
  {
   "cell_type": "code",
   "execution_count": 25,
   "id": "5a598e21-f590-4733-bc56-77b19942cff2",
   "metadata": {
    "tags": []
   },
   "outputs": [],
   "source": [
    "num_epochs = 20\n",
    "early_stop = EarlyStopping(patience=2,verbose=1)"
   ]
  },
  {
   "cell_type": "code",
   "execution_count": 26,
   "id": "7060f8ee-fa67-42e1-818a-0ebe2b668429",
   "metadata": {
    "tags": []
   },
   "outputs": [
    {
     "name": "stdout",
     "output_type": "stream",
     "text": [
      "Epoch 1/20\n",
      "130/130 - 2s - loss: 0.4710 - accuracy: 0.8629 - val_loss: 0.3819 - val_accuracy: 0.8598 - 2s/epoch - 15ms/step\n",
      "Epoch 2/20\n",
      "130/130 - 1s - loss: 0.3665 - accuracy: 0.8771 - val_loss: 0.3688 - val_accuracy: 0.8598 - 693ms/epoch - 5ms/step\n",
      "Epoch 3/20\n",
      "130/130 - 1s - loss: 0.3345 - accuracy: 0.8771 - val_loss: 0.3097 - val_accuracy: 0.8598 - 699ms/epoch - 5ms/step\n",
      "Epoch 4/20\n",
      "130/130 - 1s - loss: 0.2425 - accuracy: 0.8771 - val_loss: 0.1877 - val_accuracy: 0.8598 - 710ms/epoch - 5ms/step\n",
      "Epoch 5/20\n",
      "130/130 - 1s - loss: 0.1566 - accuracy: 0.9105 - val_loss: 0.1505 - val_accuracy: 0.9632 - 699ms/epoch - 5ms/step\n",
      "Epoch 6/20\n",
      "130/130 - 1s - loss: 0.0986 - accuracy: 0.9778 - val_loss: 0.0980 - val_accuracy: 0.9758 - 681ms/epoch - 5ms/step\n",
      "Epoch 7/20\n",
      "130/130 - 1s - loss: 0.0636 - accuracy: 0.9836 - val_loss: 0.0710 - val_accuracy: 0.9797 - 682ms/epoch - 5ms/step\n",
      "Epoch 8/20\n",
      "130/130 - 1s - loss: 0.0454 - accuracy: 0.9903 - val_loss: 0.0724 - val_accuracy: 0.9816 - 668ms/epoch - 5ms/step\n",
      "Epoch 9/20\n",
      "130/130 - 1s - loss: 0.0347 - accuracy: 0.9923 - val_loss: 0.0665 - val_accuracy: 0.9807 - 671ms/epoch - 5ms/step\n",
      "Epoch 10/20\n",
      "130/130 - 1s - loss: 0.0292 - accuracy: 0.9920 - val_loss: 0.0728 - val_accuracy: 0.9836 - 691ms/epoch - 5ms/step\n",
      "Epoch 11/20\n",
      "130/130 - 1s - loss: 0.0236 - accuracy: 0.9940 - val_loss: 0.0721 - val_accuracy: 0.9816 - 780ms/epoch - 6ms/step\n",
      "Epoch 11: early stopping\n"
     ]
    }
   ],
   "source": [
    "history = model.fit(X_train_pad, y_train,epochs=num_epochs,verbose=2,validation_data=(X_test_pad,y_test),callbacks=[early_stop])"
   ]
  },
  {
   "cell_type": "code",
   "execution_count": 27,
   "id": "ced05a56-0d59-4940-aaf3-56fce5bb4936",
   "metadata": {
    "tags": []
   },
   "outputs": [
    {
     "name": "stdout",
     "output_type": "stream",
     "text": [
      "33/33 [==============================] - 0s 1ms/step - loss: 0.0721 - accuracy: 0.9816\n"
     ]
    },
    {
     "data": {
      "text/plain": [
       "[0.07213909178972244, 0.9816247820854187]"
      ]
     },
     "execution_count": 27,
     "metadata": {},
     "output_type": "execute_result"
    }
   ],
   "source": [
    "model.evaluate(X_test_pad,y_test)"
   ]
  },
  {
   "cell_type": "code",
   "execution_count": 28,
   "id": "bab89126-1c83-4b25-a8e2-ec51ed2d07c0",
   "metadata": {
    "tags": []
   },
   "outputs": [],
   "source": [
    "# Read as a dataframe \n",
    "metrics = pd.DataFrame(history.history)\n",
    "\n",
    "metrics.rename(columns = {'loss': 'Training_Loss', 'accuracy': 'Training_Accuracy', 'val_loss': 'Validation_Loss', 'val_accuracy': 'Validation_Accuracy'}, inplace = True)\n",
    "\n",
    "def plot_graphs1(var1, var2, string):\n",
    "    metrics[[var1, var2]].plot()\n",
    "    plt.title('Training and Validation ' + string)\n",
    "    plt.xlabel ('Number of epochs')\n",
    "    plt.ylabel(string)\n",
    "    plt.legend([var1, var2])"
   ]
  },
  {
   "cell_type": "code",
   "execution_count": 29,
   "id": "fae5bf6f-7e08-4c82-8997-45ec12955bb4",
   "metadata": {
    "tags": []
   },
   "outputs": [
    {
     "data": {
      "image/png": "[encoded data removed]",
      "text/plain": [
       "<Figure size 640x480 with 1 Axes>"
      ]
     },
     "metadata": {},
     "output_type": "display_data"
    }
   ],
   "source": [
    "plot_graphs1('Training_Loss', 'Validation_Loss', 'loss')\n"
   ]
  },
  {
   "cell_type": "code",
   "execution_count": 30,
   "id": "62251abf-5347-4713-85f1-57a4d8bdf645",
   "metadata": {
    "tags": []
   },
   "outputs": [
    {
     "data": {
      "image/png": "[encoded data removed]",
      "text/plain": [
       "<Figure size 640x480 with 1 Axes>"
      ]
     },
     "metadata": {},
     "output_type": "display_data"
    }
   ],
   "source": [
    "plot_graphs1('Training_Accuracy', 'Validation_Accuracy', 'accuracy')\n"
   ]
  },
  {
   "cell_type": "markdown",
   "id": "e7c0b3c3-1b22-4139-8210-a6f5684826c8",
   "metadata": {},
   "source": [
    "### LSTM Model"
   ]
  },
  {
   "cell_type": "code",
   "execution_count": 31,
   "id": "0c63ac58-d5fe-4db6-ac02-f46b64494b7b",
   "metadata": {
    "tags": []
   },
   "outputs": [],
   "source": [
    "n_lstm = 10\n",
    "drop_lstm = 0.3\n",
    "\n",
    "model1 = Sequential()\n",
    "model1.add(Embedding(vocab_size, 32, input_length=max_len))\n",
    "model1.add(LSTM(n_lstm,dropout=drop_lstm,return_sequences=True))\n",
    "model1.add(LSTM(n_lstm,dropout=drop_lstm,return_sequences=True))\n",
    "model1.add(Dense(1,activation='sigmoid'))\n",
    "\n",
    "model1.compile(loss='binary_crossentropy',optimizer = 'adam',metrics=['accuracy'])"
   ]
  },
  {
   "cell_type": "code",
   "execution_count": 32,
   "id": "04e3bed8-0d4b-4a91-8a7c-78d2783b8ee2",
   "metadata": {
    "tags": []
   },
   "outputs": [],
   "source": [
    "num_epochs = 30\n",
    "early_stop = EarlyStopping(monitor='val_loss', patience=2)\n"
   ]
  },
  {
   "cell_type": "code",
   "execution_count": 33,
   "id": "5fea04ea-e1b6-4113-a32f-e9433c82330f",
   "metadata": {
    "tags": []
   },
   "outputs": [
    {
     "name": "stdout",
     "output_type": "stream",
     "text": [
      "Epoch 1/30\n",
      "130/130 - 15s - loss: 0.4421 - accuracy: 0.8608 - val_loss: 0.3925 - val_accuracy: 0.8655 - 15s/epoch - 113ms/step\n",
      "Epoch 2/30\n",
      "130/130 - 9s - loss: 0.2888 - accuracy: 0.9190 - val_loss: 0.1541 - val_accuracy: 0.9719 - 9s/epoch - 68ms/step\n",
      "Epoch 3/30\n",
      "130/130 - 8s - loss: 0.0979 - accuracy: 0.9850 - val_loss: 0.1229 - val_accuracy: 0.9729 - 8s/epoch - 58ms/step\n",
      "Epoch 4/30\n",
      "130/130 - 7s - loss: 0.0689 - accuracy: 0.9889 - val_loss: 0.1185 - val_accuracy: 0.9738 - 7s/epoch - 57ms/step\n",
      "Epoch 5/30\n",
      "130/130 - 8s - loss: 0.0469 - accuracy: 0.9927 - val_loss: 0.1142 - val_accuracy: 0.9758 - 8s/epoch - 63ms/step\n",
      "Epoch 6/30\n",
      "130/130 - 9s - loss: 0.0415 - accuracy: 0.9933 - val_loss: 0.1175 - val_accuracy: 0.9753 - 9s/epoch - 68ms/step\n",
      "Epoch 7/30\n",
      "130/130 - 10s - loss: 0.0345 - accuracy: 0.9944 - val_loss: 0.1132 - val_accuracy: 0.9769 - 10s/epoch - 73ms/step\n",
      "Epoch 8/30\n",
      "130/130 - 9s - loss: 0.0273 - accuracy: 0.9957 - val_loss: 0.1227 - val_accuracy: 0.9752 - 9s/epoch - 66ms/step\n",
      "Epoch 9/30\n",
      "130/130 - 9s - loss: 0.0215 - accuracy: 0.9966 - val_loss: 0.1259 - val_accuracy: 0.9754 - 9s/epoch - 68ms/step\n"
     ]
    }
   ],
   "source": [
    "history = model1.fit(X_train_pad, y_train,epochs=num_epochs,verbose=2,validation_data=(X_test_pad,y_test),callbacks=[early_stop])"
   ]
  },
  {
   "cell_type": "code",
   "execution_count": 34,
   "id": "e801aadb-d4f4-4714-bc8f-dd33059f7d51",
   "metadata": {
    "tags": []
   },
   "outputs": [],
   "source": [
    "metrics = pd.DataFrame(history.history)\n",
    "\n",
    "metrics.rename(columns = {'loss': 'Training_Loss', 'accuracy': 'Training_Accuracy', 'val_loss': 'Validation_Loss', 'val_accuracy': 'Validation_Accuracy'}, inplace = True)\n",
    "\n",
    "def plot_graphs1(var1, var2, string):\n",
    "    metrics[[var1, var2]].plot()\n",
    "    plt.title('Training and Validation ' + string)\n",
    "    plt.xlabel ('Number of epochs')\n",
    "    plt.ylabel(string)\n",
    "    plt.legend([var1, var2])"
   ]
  },
  {
   "cell_type": "code",
   "execution_count": 35,
   "id": "c7609259-fe20-4b92-a9a5-37f1f1e3003a",
   "metadata": {
    "tags": []
   },
   "outputs": [
    {
     "data": {
      "image/png": "[encoded data removed]",
      "text/plain": [
       "<Figure size 640x480 with 1 Axes>"
      ]
     },
     "metadata": {},
     "output_type": "display_data"
    }
   ],
   "source": [
    "plot_graphs1('Training_Loss', 'Validation_Loss', 'loss')\n"
   ]
  },
  {
   "cell_type": "code",
   "execution_count": 36,
   "id": "b81692dd-c5b4-40d6-9b5d-b1675343fdac",
   "metadata": {
    "tags": []
   },
   "outputs": [
    {
     "data": {
      "image/png": "[encoded data removed]",
      "text/plain": [
       "<Figure size 640x480 with 1 Axes>"
      ]
     },
     "metadata": {},
     "output_type": "display_data"
    }
   ],
   "source": [
    "plot_graphs1('Training_Accuracy', 'Validation_Accuracy', 'accuracy')\n"
   ]
  },
  {
   "cell_type": "markdown",
   "id": "70676cf6-fc3f-4697-acea-74f468b3cd83",
   "metadata": {},
   "source": [
    "## Bi LSTM"
   ]
  },
  {
   "cell_type": "code",
   "execution_count": 37,
   "id": "eb01e584-8998-4e97-8eac-486cd0635f76",
   "metadata": {
    "tags": []
   },
   "outputs": [],
   "source": [
    "n_lstm = 10\n",
    "drop_lstm = 0.3\n",
    "\n",
    "model2 = Sequential()\n",
    "model2.add(Embedding(vocab_size, 64, input_length=max_len))\n",
    "model2.add(Bidirectional(LSTM(n_lstm,dropout=drop_lstm,return_sequences=True)))\n",
    "model2.add(Bidirectional(LSTM(n_lstm,dropout=drop_lstm,return_sequences=True)))\n",
    "model2.add(Dense(1,activation='sigmoid'))\n",
    "\n",
    "model2.compile(loss='binary_crossentropy',optimizer = 'adam',metrics=['accuracy'])"
   ]
  },
  {
   "cell_type": "code",
   "execution_count": 38,
   "id": "6e2587b9-de2f-45b8-aab0-43da3ed6ce52",
   "metadata": {
    "tags": []
   },
   "outputs": [],
   "source": [
    "num_epochs = 30\n",
    "early_stop = EarlyStopping(monitor='val_loss', patience=2)\n"
   ]
  },
  {
   "cell_type": "code",
   "execution_count": 39,
   "id": "9761054c-0e20-4a84-964a-bb9110757b8d",
   "metadata": {
    "tags": []
   },
   "outputs": [
    {
     "name": "stdout",
     "output_type": "stream",
     "text": [
      "Epoch 1/30\n",
      "130/130 - 19s - loss: 0.4019 - accuracy: 0.8630 - val_loss: 0.3722 - val_accuracy: 0.8711 - 19s/epoch - 144ms/step\n",
      "Epoch 2/30\n",
      "130/130 - 10s - loss: 0.1168 - accuracy: 0.9740 - val_loss: 0.1178 - val_accuracy: 0.9689 - 10s/epoch - 78ms/step\n",
      "Epoch 3/30\n",
      "130/130 - 11s - loss: 0.0422 - accuracy: 0.9934 - val_loss: 0.0970 - val_accuracy: 0.9805 - 11s/epoch - 82ms/step\n",
      "Epoch 4/30\n",
      "130/130 - 11s - loss: 0.0222 - accuracy: 0.9973 - val_loss: 0.1080 - val_accuracy: 0.9795 - 11s/epoch - 88ms/step\n",
      "Epoch 5/30\n",
      "130/130 - 12s - loss: 0.0126 - accuracy: 0.9985 - val_loss: 0.1282 - val_accuracy: 0.9765 - 12s/epoch - 95ms/step\n"
     ]
    }
   ],
   "source": [
    "history = model2.fit(X_train_pad, y_train,epochs=num_epochs,verbose=2,validation_data=(X_test_pad,y_test),callbacks=[early_stop])"
   ]
  },
  {
   "cell_type": "code",
   "execution_count": 40,
   "id": "3e300b57-7cfd-4ae5-a9cc-9f8e9bc903bc",
   "metadata": {
    "tags": []
   },
   "outputs": [
    {
     "name": "stdout",
     "output_type": "stream",
     "text": [
      "1/1 [==============================] - 2s 2s/step\n",
      "[[[0.03139421]\n",
      "  [0.02310236]\n",
      "  [0.0149452 ]\n",
      "  [0.01092758]\n",
      "  [0.00803255]\n",
      "  [0.00616115]\n",
      "  [0.00492181]\n",
      "  [0.00407507]\n",
      "  [0.00344541]\n",
      "  [0.00268487]\n",
      "  [0.00231197]\n",
      "  [0.00210591]\n",
      "  [0.00189482]\n",
      "  [0.00164002]\n",
      "  [0.00165294]\n",
      "  [0.00155295]\n",
      "  [0.00150711]\n",
      "  [0.00134212]\n",
      "  [0.00141288]\n",
      "  [0.00123562]\n",
      "  [0.00131506]\n",
      "  [0.00130247]\n",
      "  [0.00129218]\n",
      "  [0.00128407]\n",
      "  [0.00127778]\n",
      "  [0.00127282]\n",
      "  [0.00126886]\n",
      "  [0.00126567]\n",
      "  [0.00126306]\n",
      "  [0.00126091]\n",
      "  [0.00125913]\n",
      "  [0.00125764]\n",
      "  [0.00125639]\n",
      "  [0.00125534]\n",
      "  [0.00125444]\n",
      "  [0.00125368]\n",
      "  [0.00125303]\n",
      "  [0.00125247]\n",
      "  [0.001252  ]\n",
      "  [0.00125158]\n",
      "  [0.00125123]\n",
      "  [0.00125092]\n",
      "  [0.00125065]\n",
      "  [0.00125042]\n",
      "  [0.00125022]\n",
      "  [0.00125004]\n",
      "  [0.00124989]\n",
      "  [0.00124976]\n",
      "  [0.00124964]\n",
      "  [0.00124954]\n",
      "  [0.00124945]\n",
      "  [0.00124938]\n",
      "  [0.00124932]\n",
      "  [0.00124927]\n",
      "  [0.00124923]\n",
      "  [0.0012492 ]\n",
      "  [0.00124918]\n",
      "  [0.00124918]\n",
      "  [0.00124919]\n",
      "  [0.00124921]\n",
      "  [0.00124925]\n",
      "  [0.00124931]\n",
      "  [0.00124939]\n",
      "  [0.0012495 ]\n",
      "  [0.00124965]\n",
      "  [0.00124983]\n",
      "  [0.00125006]\n",
      "  [0.00125035]\n",
      "  [0.00125071]\n",
      "  [0.00125116]\n",
      "  [0.00125171]\n",
      "  [0.00125239]\n",
      "  [0.00125323]\n",
      "  [0.00125425]\n",
      "  [0.0012555 ]\n",
      "  [0.00125704]\n",
      "  [0.00125892]\n",
      "  [0.00126122]\n",
      "  [0.00126405]\n",
      "  [0.00126754]\n",
      "  [0.00127183]\n",
      "  [0.00127714]\n",
      "  [0.00128374]\n",
      "  [0.00129198]\n",
      "  [0.00130234]\n",
      "  [0.00131545]\n",
      "  [0.00133223]\n",
      "  [0.00135394]\n",
      "  [0.00138245]\n",
      "  [0.00142055]\n",
      "  [0.00147257]\n",
      "  [0.00154553]\n",
      "  [0.00165142]\n",
      "  [0.001812  ]\n",
      "  [0.00206998]\n",
      "  [0.00251638]\n",
      "  [0.00336279]\n",
      "  [0.00514636]\n",
      "  [0.00935134]\n",
      "  [0.02023635]]\n",
      "\n",
      " [[0.0170505 ]\n",
      "  [0.00803779]\n",
      "  [0.00491634]\n",
      "  [0.00294302]\n",
      "  [0.00220379]\n",
      "  [0.00185479]\n",
      "  [0.00162619]\n",
      "  [0.0014976 ]\n",
      "  [0.00142102]\n",
      "  [0.0013728 ]\n",
      "  [0.00134126]\n",
      "  [0.00131976]\n",
      "  [0.00130457]\n",
      "  [0.00129346]\n",
      "  [0.00128511]\n",
      "  [0.00127868]\n",
      "  [0.00127362]\n",
      "  [0.00126959]\n",
      "  [0.00126632]\n",
      "  [0.00126364]\n",
      "  [0.00126143]\n",
      "  [0.00125959]\n",
      "  [0.00125805]\n",
      "  [0.00125676]\n",
      "  [0.00125566]\n",
      "  [0.00125473]\n",
      "  [0.00125393]\n",
      "  [0.00125325]\n",
      "  [0.00125267]\n",
      "  [0.00125217]\n",
      "  [0.00125174]\n",
      "  [0.00125136]\n",
      "  [0.00125104]\n",
      "  [0.00125076]\n",
      "  [0.00125051]\n",
      "  [0.0012503 ]\n",
      "  [0.00125012]\n",
      "  [0.00124995]\n",
      "  [0.00124981]\n",
      "  [0.00124969]\n",
      "  [0.00124958]\n",
      "  [0.00124948]\n",
      "  [0.0012494 ]\n",
      "  [0.00124932]\n",
      "  [0.00124926]\n",
      "  [0.0012492 ]\n",
      "  [0.00124915]\n",
      "  [0.0012491 ]\n",
      "  [0.00124907]\n",
      "  [0.00124903]\n",
      "  [0.00124901]\n",
      "  [0.00124899]\n",
      "  [0.00124897]\n",
      "  [0.00124896]\n",
      "  [0.00124896]\n",
      "  [0.00124896]\n",
      "  [0.00124897]\n",
      "  [0.00124899]\n",
      "  [0.00124902]\n",
      "  [0.00124906]\n",
      "  [0.00124912]\n",
      "  [0.00124919]\n",
      "  [0.00124929]\n",
      "  [0.00124941]\n",
      "  [0.00124956]\n",
      "  [0.00124976]\n",
      "  [0.00125   ]\n",
      "  [0.0012503 ]\n",
      "  [0.00125066]\n",
      "  [0.00125112]\n",
      "  [0.00125167]\n",
      "  [0.00125236]\n",
      "  [0.00125319]\n",
      "  [0.00125422]\n",
      "  [0.00125547]\n",
      "  [0.00125701]\n",
      "  [0.0012589 ]\n",
      "  [0.0012612 ]\n",
      "  [0.00126404]\n",
      "  [0.00126752]\n",
      "  [0.00127182]\n",
      "  [0.00127713]\n",
      "  [0.00128373]\n",
      "  [0.00129197]\n",
      "  [0.00130233]\n",
      "  [0.00131544]\n",
      "  [0.00133222]\n",
      "  [0.00135393]\n",
      "  [0.00138244]\n",
      "  [0.00142054]\n",
      "  [0.00147256]\n",
      "  [0.00154553]\n",
      "  [0.00165141]\n",
      "  [0.00181199]\n",
      "  [0.00206997]\n",
      "  [0.00251637]\n",
      "  [0.00336277]\n",
      "  [0.00514633]\n",
      "  [0.00935129]\n",
      "  [0.02023625]]\n",
      "\n",
      " [[0.876018  ]\n",
      "  [0.8999232 ]\n",
      "  [0.917512  ]\n",
      "  [0.93401355]\n",
      "  [0.94910425]\n",
      "  [0.95853776]\n",
      "  [0.96613   ]\n",
      "  [0.9718721 ]\n",
      "  [0.9757707 ]\n",
      "  [0.97983015]\n",
      "  [0.9820826 ]\n",
      "  [0.98295164]\n",
      "  [0.98429453]\n",
      "  [0.984849  ]\n",
      "  [0.98528045]\n",
      "  [0.9843696 ]\n",
      "  [0.98443   ]\n",
      "  [0.98680633]\n",
      "  [0.9876643 ]\n",
      "  [0.98794574]\n",
      "  [0.9886469 ]\n",
      "  [0.9890454 ]\n",
      "  [0.98945826]\n",
      "  [0.9898914 ]\n",
      "  [0.99005663]\n",
      "  [0.9907896 ]\n",
      "  [0.99286216]\n",
      "  [0.9941373 ]\n",
      "  [0.9943644 ]\n",
      "  [0.99460125]\n",
      "  [0.99480855]\n",
      "  [0.9952537 ]\n",
      "  [0.99526304]\n",
      "  [0.99528456]\n",
      "  [0.99529696]\n",
      "  [0.9953071 ]\n",
      "  [0.99531484]\n",
      "  [0.9953209 ]\n",
      "  [0.9953258 ]\n",
      "  [0.9953297 ]\n",
      "  [0.9953328 ]\n",
      "  [0.9953353 ]\n",
      "  [0.99533737]\n",
      "  [0.99533904]\n",
      "  [0.9953404 ]\n",
      "  [0.9953416 ]\n",
      "  [0.99534255]\n",
      "  [0.9953434 ]\n",
      "  [0.99534404]\n",
      "  [0.99534464]\n",
      "  [0.9953451 ]\n",
      "  [0.9953456 ]\n",
      "  [0.99534595]\n",
      "  [0.99534625]\n",
      "  [0.9953465 ]\n",
      "  [0.9953467 ]\n",
      "  [0.9953469 ]\n",
      "  [0.9953471 ]\n",
      "  [0.99534714]\n",
      "  [0.9953472 ]\n",
      "  [0.9953472 ]\n",
      "  [0.9953472 ]\n",
      "  [0.9953471 ]\n",
      "  [0.9953469 ]\n",
      "  [0.9953466 ]\n",
      "  [0.9953462 ]\n",
      "  [0.99534565]\n",
      "  [0.99534494]\n",
      "  [0.99534404]\n",
      "  [0.99534285]\n",
      "  [0.99534136]\n",
      "  [0.9953395 ]\n",
      "  [0.9953371 ]\n",
      "  [0.99533415]\n",
      "  [0.9953304 ]\n",
      "  [0.99532574]\n",
      "  [0.99531996]\n",
      "  [0.99531275]\n",
      "  [0.9953038 ]\n",
      "  [0.9952926 ]\n",
      "  [0.9952786 ]\n",
      "  [0.99526113]\n",
      "  [0.9952392 ]\n",
      "  [0.99521154]\n",
      "  [0.9951766 ]\n",
      "  [0.99513215]\n",
      "  [0.9950753 ]\n",
      "  [0.9950018 ]\n",
      "  [0.9949061 ]\n",
      "  [0.99478006]\n",
      "  [0.9946121 ]\n",
      "  [0.9943851 ]\n",
      "  [0.99407345]\n",
      "  [0.9936371 ]\n",
      "  [0.99300957]\n",
      "  [0.99206823]\n",
      "  [0.9905481 ]\n",
      "  [0.9877512 ]\n",
      "  [0.98143667]\n",
      "  [0.9636304 ]]]\n"
     ]
    }
   ],
   "source": [
    "predict_msg = [\"Go until jurong point, crazy.. Available only in bugis n great world la e buffet... Cine there got amore wat...\",\n",
    "          \"Ok lar... Joking wif u oni...\",\n",
    "          \"Free entry in 2 a wkly comp to win FA Cup final tkts 21st May 2005. Text FA to 87121 to receive entry question(std txt rate)T&C's apply 08452810075over18's\"]\n",
    "\n",
    "test = tokenizer.texts_to_sequences(predict_msg)\n",
    "test_pad = pad_sequences(test, maxlen=max_len, padding='post', truncating='post')\n",
    "\n",
    "res = model2.predict(test_pad)\n",
    "print(res)"
   ]
  },
  {
   "cell_type": "code",
   "execution_count": 41,
   "id": "b0a80ccd-6071-4ea9-aa43-e8250e1f7b10",
   "metadata": {
    "tags": []
   },
   "outputs": [
    {
     "name": "stdout",
     "output_type": "stream",
     "text": [
      "[[[0.]\n",
      "  [0.]\n",
      "  [0.]\n",
      "  [0.]\n",
      "  [0.]\n",
      "  [0.]\n",
      "  [0.]\n",
      "  [0.]\n",
      "  [0.]\n",
      "  [0.]\n",
      "  [0.]\n",
      "  [0.]\n",
      "  [0.]\n",
      "  [0.]\n",
      "  [0.]\n",
      "  [0.]\n",
      "  [0.]\n",
      "  [0.]\n",
      "  [0.]\n",
      "  [0.]\n",
      "  [0.]\n",
      "  [0.]\n",
      "  [0.]\n",
      "  [0.]\n",
      "  [0.]\n",
      "  [0.]\n",
      "  [0.]\n",
      "  [0.]\n",
      "  [0.]\n",
      "  [0.]\n",
      "  [0.]\n",
      "  [0.]\n",
      "  [0.]\n",
      "  [0.]\n",
      "  [0.]\n",
      "  [0.]\n",
      "  [0.]\n",
      "  [0.]\n",
      "  [0.]\n",
      "  [0.]\n",
      "  [0.]\n",
      "  [0.]\n",
      "  [0.]\n",
      "  [0.]\n",
      "  [0.]\n",
      "  [0.]\n",
      "  [0.]\n",
      "  [0.]\n",
      "  [0.]\n",
      "  [0.]\n",
      "  [0.]\n",
      "  [0.]\n",
      "  [0.]\n",
      "  [0.]\n",
      "  [0.]\n",
      "  [0.]\n",
      "  [0.]\n",
      "  [0.]\n",
      "  [0.]\n",
      "  [0.]\n",
      "  [0.]\n",
      "  [0.]\n",
      "  [0.]\n",
      "  [0.]\n",
      "  [0.]\n",
      "  [0.]\n",
      "  [0.]\n",
      "  [0.]\n",
      "  [0.]\n",
      "  [0.]\n",
      "  [0.]\n",
      "  [0.]\n",
      "  [0.]\n",
      "  [0.]\n",
      "  [0.]\n",
      "  [0.]\n",
      "  [0.]\n",
      "  [0.]\n",
      "  [0.]\n",
      "  [0.]\n",
      "  [0.]\n",
      "  [0.]\n",
      "  [0.]\n",
      "  [0.]\n",
      "  [0.]\n",
      "  [0.]\n",
      "  [0.]\n",
      "  [0.]\n",
      "  [0.]\n",
      "  [0.]\n",
      "  [0.]\n",
      "  [0.]\n",
      "  [0.]\n",
      "  [0.]\n",
      "  [0.]\n",
      "  [0.]\n",
      "  [0.]\n",
      "  [0.]\n",
      "  [0.]\n",
      "  [0.]]\n",
      "\n",
      " [[0.]\n",
      "  [0.]\n",
      "  [0.]\n",
      "  [0.]\n",
      "  [0.]\n",
      "  [0.]\n",
      "  [0.]\n",
      "  [0.]\n",
      "  [0.]\n",
      "  [0.]\n",
      "  [0.]\n",
      "  [0.]\n",
      "  [0.]\n",
      "  [0.]\n",
      "  [0.]\n",
      "  [0.]\n",
      "  [0.]\n",
      "  [0.]\n",
      "  [0.]\n",
      "  [0.]\n",
      "  [0.]\n",
      "  [0.]\n",
      "  [0.]\n",
      "  [0.]\n",
      "  [0.]\n",
      "  [0.]\n",
      "  [0.]\n",
      "  [0.]\n",
      "  [0.]\n",
      "  [0.]\n",
      "  [0.]\n",
      "  [0.]\n",
      "  [0.]\n",
      "  [0.]\n",
      "  [0.]\n",
      "  [0.]\n",
      "  [0.]\n",
      "  [0.]\n",
      "  [0.]\n",
      "  [0.]\n",
      "  [0.]\n",
      "  [0.]\n",
      "  [0.]\n",
      "  [0.]\n",
      "  [0.]\n",
      "  [0.]\n",
      "  [0.]\n",
      "  [0.]\n",
      "  [0.]\n",
      "  [0.]\n",
      "  [0.]\n",
      "  [0.]\n",
      "  [0.]\n",
      "  [0.]\n",
      "  [0.]\n",
      "  [0.]\n",
      "  [0.]\n",
      "  [0.]\n",
      "  [0.]\n",
      "  [0.]\n",
      "  [0.]\n",
      "  [0.]\n",
      "  [0.]\n",
      "  [0.]\n",
      "  [0.]\n",
      "  [0.]\n",
      "  [0.]\n",
      "  [0.]\n",
      "  [0.]\n",
      "  [0.]\n",
      "  [0.]\n",
      "  [0.]\n",
      "  [0.]\n",
      "  [0.]\n",
      "  [0.]\n",
      "  [0.]\n",
      "  [0.]\n",
      "  [0.]\n",
      "  [0.]\n",
      "  [0.]\n",
      "  [0.]\n",
      "  [0.]\n",
      "  [0.]\n",
      "  [0.]\n",
      "  [0.]\n",
      "  [0.]\n",
      "  [0.]\n",
      "  [0.]\n",
      "  [0.]\n",
      "  [0.]\n",
      "  [0.]\n",
      "  [0.]\n",
      "  [0.]\n",
      "  [0.]\n",
      "  [0.]\n",
      "  [0.]\n",
      "  [0.]\n",
      "  [0.]\n",
      "  [0.]\n",
      "  [0.]]\n",
      "\n",
      " [[1.]\n",
      "  [1.]\n",
      "  [1.]\n",
      "  [1.]\n",
      "  [1.]\n",
      "  [1.]\n",
      "  [1.]\n",
      "  [1.]\n",
      "  [1.]\n",
      "  [1.]\n",
      "  [1.]\n",
      "  [1.]\n",
      "  [1.]\n",
      "  [1.]\n",
      "  [1.]\n",
      "  [1.]\n",
      "  [1.]\n",
      "  [1.]\n",
      "  [1.]\n",
      "  [1.]\n",
      "  [1.]\n",
      "  [1.]\n",
      "  [1.]\n",
      "  [1.]\n",
      "  [1.]\n",
      "  [1.]\n",
      "  [1.]\n",
      "  [1.]\n",
      "  [1.]\n",
      "  [1.]\n",
      "  [1.]\n",
      "  [1.]\n",
      "  [1.]\n",
      "  [1.]\n",
      "  [1.]\n",
      "  [1.]\n",
      "  [1.]\n",
      "  [1.]\n",
      "  [1.]\n",
      "  [1.]\n",
      "  [1.]\n",
      "  [1.]\n",
      "  [1.]\n",
      "  [1.]\n",
      "  [1.]\n",
      "  [1.]\n",
      "  [1.]\n",
      "  [1.]\n",
      "  [1.]\n",
      "  [1.]\n",
      "  [1.]\n",
      "  [1.]\n",
      "  [1.]\n",
      "  [1.]\n",
      "  [1.]\n",
      "  [1.]\n",
      "  [1.]\n",
      "  [1.]\n",
      "  [1.]\n",
      "  [1.]\n",
      "  [1.]\n",
      "  [1.]\n",
      "  [1.]\n",
      "  [1.]\n",
      "  [1.]\n",
      "  [1.]\n",
      "  [1.]\n",
      "  [1.]\n",
      "  [1.]\n",
      "  [1.]\n",
      "  [1.]\n",
      "  [1.]\n",
      "  [1.]\n",
      "  [1.]\n",
      "  [1.]\n",
      "  [1.]\n",
      "  [1.]\n",
      "  [1.]\n",
      "  [1.]\n",
      "  [1.]\n",
      "  [1.]\n",
      "  [1.]\n",
      "  [1.]\n",
      "  [1.]\n",
      "  [1.]\n",
      "  [1.]\n",
      "  [1.]\n",
      "  [1.]\n",
      "  [1.]\n",
      "  [1.]\n",
      "  [1.]\n",
      "  [1.]\n",
      "  [1.]\n",
      "  [1.]\n",
      "  [1.]\n",
      "  [1.]\n",
      "  [1.]\n",
      "  [1.]\n",
      "  [1.]\n",
      "  [1.]]]\n"
     ]
    }
   ],
   "source": [
    "print(np.round(res))"
   ]
  },
  {
   "cell_type": "markdown",
   "id": "90130bbd",
   "metadata": {},
   "source": []
  },
  {
   "cell_type": "code",
   "execution_count": 42,
   "id": "63b06d64-833b-47ee-9ff9-5907ea67f2f9",
   "metadata": {
    "tags": []
   },
   "outputs": [],
   "source": [
    "metrics = pd.DataFrame(history.history)\n",
    "\n",
    "metrics.rename(columns = {'loss': 'Training_Loss', 'accuracy': 'Training_Accuracy', 'val_loss': 'Validation_Loss', 'val_accuracy': 'Validation_Accuracy'}, inplace = True)\n",
    "\n",
    "def plot_graphs1(var1, var2, string):\n",
    "    metrics[[var1, var2]].plot()\n",
    "    plt.title('Training and Validation ' + string)\n",
    "    plt.xlabel ('Number of epochs')\n",
    "    plt.ylabel(string)\n",
    "    plt.legend([var1, var2])"
   ]
  },
  {
   "cell_type": "code",
   "execution_count": 43,
   "id": "2e5d6d19-7d02-482e-880f-dafe9ab95fec",
   "metadata": {
    "tags": []
   },
   "outputs": [
    {
     "data": {
      "image/png": "[encoded data removed]",
      "text/plain": [
       "<Figure size 640x480 with 1 Axes>"
      ]
     },
     "metadata": {},
     "output_type": "display_data"
    }
   ],
   "source": [
    "plot_graphs1('Training_Loss', 'Validation_Loss', 'loss')\n"
   ]
  },
  {
   "cell_type": "code",
   "execution_count": 44,
   "id": "4478b4fa-7b6a-4b24-a97e-89101a8e972c",
   "metadata": {
    "tags": []
   },
   "outputs": [
    {
     "data": {
      "image/png": "[encoded data removed]",
      "text/plain": [
       "<Figure size 640x480 with 1 Axes>"
      ]
     },
     "metadata": {},
     "output_type": "display_data"
    }
   ],
   "source": [
    "plot_graphs1('Training_Accuracy', 'Validation_Accuracy', 'accuracy')\n"
   ]
  },
  {
   "cell_type": "markdown",
   "id": "a74519a7-d668-4141-8aee-d6c674dbf897",
   "metadata": {},
   "source": [
    "### Saving the Bi LSTM model"
   ]
  },
  {
   "cell_type": "code",
   "execution_count": 45,
   "id": "5c99877c-c2ee-48fc-823b-ebf8169c58a4",
   "metadata": {
    "tags": []
   },
   "outputs": [],
   "source": [
    "model2.save('BiLSTM.h5')"
   ]
  }
 ],
 "metadata": {
  "kernelspec": {
   "display_name": "web",
   "language": "python",
   "name": "python3"
  },
  "language_info": {
   "codemirror_mode": {
    "name": "ipython",
    "version": 3
   },
   "file_extension": ".py",
   "mimetype": "text/x-python",
   "name": "python",
   "nbconvert_exporter": "python",
   "pygments_lexer": "ipython3",
   "version": "3.8.0"
  }
 },
 "nbformat": 4,
 "nbformat_minor": 5
}
