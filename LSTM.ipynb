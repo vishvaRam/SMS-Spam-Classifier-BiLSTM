{
 "cells": [
  {
   "cell_type": "markdown",
   "id": "6b3be255-be87-4622-8364-50771ee7ba5a",
   "metadata": {},
   "source": [
    "# Email Spam Classifier using LSTM"
   ]
  },
  {
   "cell_type": "code",
   "execution_count": 53,
   "id": "1f855b8a-41a4-47ee-a432-82cf86b5e4da",
   "metadata": {
    "tags": []
   },
   "outputs": [],
   "source": [
    "import pandas as pd\n",
    "from sklearn.model_selection import train_test_split\n",
    "from tensorflow.keras.preprocessing.text import Tokenizer\n",
    "from tensorflow.keras.preprocessing.sequence import pad_sequences\n",
    "from tensorflow.keras.models import Sequential\n",
    "from tensorflow.keras.layers import Embedding, LSTM, Dense,GlobalAveragePooling1D,Dropout,Bidirectional\n",
    "from tensorflow.keras.callbacks import EarlyStopping\n",
    "import seaborn as sns\n",
    "from nltk.corpus import stopwords \n",
    "import matplotlib.pyplot as plt"
   ]
  },
  {
   "cell_type": "code",
   "execution_count": 2,
   "id": "f2934f64-0889-40ec-bf1e-39596b51b5c1",
   "metadata": {
    "tags": []
   },
   "outputs": [],
   "source": [
    "df = pd.read_csv('spam.csv',encoding='ISO-8859-1')"
   ]
  },
  {
   "cell_type": "code",
   "execution_count": 3,
   "id": "ba414504-67b4-4817-9d92-70a7a0cbfe87",
   "metadata": {
    "tags": []
   },
   "outputs": [],
   "source": [
    "unwanted = ['Unnamed: 2', 'Unnamed: 3', 'Unnamed: 4']\n",
    "\n",
    "df.drop(unwanted,axis =1,inplace=True)"
   ]
  },
  {
   "cell_type": "code",
   "execution_count": 4,
   "id": "aac25972-80e4-4adc-bf81-4a3b91bdab00",
   "metadata": {
    "tags": []
   },
   "outputs": [
    {
     "data": {
      "text/html": [
       "<div>\n",
       "<style scoped>\n",
       "    .dataframe tbody tr th:only-of-type {\n",
       "        vertical-align: middle;\n",
       "    }\n",
       "\n",
       "    .dataframe tbody tr th {\n",
       "        vertical-align: top;\n",
       "    }\n",
       "\n",
       "    .dataframe thead th {\n",
       "        text-align: right;\n",
       "    }\n",
       "</style>\n",
       "<table border=\"1\" class=\"dataframe\">\n",
       "  <thead>\n",
       "    <tr style=\"text-align: right;\">\n",
       "      <th></th>\n",
       "      <th>v1</th>\n",
       "      <th>v2</th>\n",
       "    </tr>\n",
       "  </thead>\n",
       "  <tbody>\n",
       "    <tr>\n",
       "      <th>0</th>\n",
       "      <td>ham</td>\n",
       "      <td>Go until jurong point, crazy.. Available only ...</td>\n",
       "    </tr>\n",
       "    <tr>\n",
       "      <th>1</th>\n",
       "      <td>ham</td>\n",
       "      <td>Ok lar... Joking wif u oni...</td>\n",
       "    </tr>\n",
       "    <tr>\n",
       "      <th>2</th>\n",
       "      <td>spam</td>\n",
       "      <td>Free entry in 2 a wkly comp to win FA Cup fina...</td>\n",
       "    </tr>\n",
       "    <tr>\n",
       "      <th>3</th>\n",
       "      <td>ham</td>\n",
       "      <td>U dun say so early hor... U c already then say...</td>\n",
       "    </tr>\n",
       "    <tr>\n",
       "      <th>4</th>\n",
       "      <td>ham</td>\n",
       "      <td>Nah I don't think he goes to usf, he lives aro...</td>\n",
       "    </tr>\n",
       "  </tbody>\n",
       "</table>\n",
       "</div>"
      ],
      "text/plain": [
       "     v1                                                 v2\n",
       "0   ham  Go until jurong point, crazy.. Available only ...\n",
       "1   ham                      Ok lar... Joking wif u oni...\n",
       "2  spam  Free entry in 2 a wkly comp to win FA Cup fina...\n",
       "3   ham  U dun say so early hor... U c already then say...\n",
       "4   ham  Nah I don't think he goes to usf, he lives aro..."
      ]
     },
     "execution_count": 4,
     "metadata": {},
     "output_type": "execute_result"
    }
   ],
   "source": [
    "df.head()"
   ]
  },
  {
   "cell_type": "code",
   "execution_count": 5,
   "id": "f19ad1e8-113d-4507-b0a7-1ddf4f5a2504",
   "metadata": {
    "tags": []
   },
   "outputs": [],
   "source": [
    "df.rename(columns={'v1':'label','v2':'text'},inplace=True)"
   ]
  },
  {
   "cell_type": "code",
   "execution_count": 6,
   "id": "ba60adf4-985a-4292-93ff-c270d8c3a2c8",
   "metadata": {
    "tags": []
   },
   "outputs": [
    {
     "data": {
      "text/plain": [
       "<seaborn.axisgrid.FacetGrid at 0x1ad525b4ed0>"
      ]
     },
     "execution_count": 6,
     "metadata": {},
     "output_type": "execute_result"
    },
    {
     "data": {
      "image/png": "[encoded data removed]",
      "text/plain": [
       "<Figure size 360x360 with 1 Axes>"
      ]
     },
     "metadata": {
      "needs_background": "light"
     },
     "output_type": "display_data"
    }
   ],
   "source": [
    "sns.displot(df.label)"
   ]
  },
  {
   "cell_type": "code",
   "execution_count": 7,
   "id": "c2cec3b4-661d-4d29-ad57-12f8f81f3095",
   "metadata": {
    "tags": []
   },
   "outputs": [],
   "source": [
    "df_ham = df[df['label']=='ham']\n",
    "df_spam = df[df['label']=='spam']"
   ]
  },
  {
   "cell_type": "code",
   "execution_count": 8,
   "id": "f1724f96-ae63-4e4d-8f86-3ca445c36e36",
   "metadata": {
    "tags": []
   },
   "outputs": [],
   "source": [
    "df_downsample = df_ham.sample(df_spam.shape[0])"
   ]
  },
  {
   "cell_type": "code",
   "execution_count": 9,
   "id": "4f20dd22-518b-4a38-8732-de92ef297f9e",
   "metadata": {
    "tags": []
   },
   "outputs": [],
   "source": [
    "df = pd.concat([df_downsample,df_spam])"
   ]
  },
  {
   "cell_type": "code",
   "execution_count": 10,
   "id": "b8597d7c-f719-44f6-8b6a-5c9cc149c56d",
   "metadata": {
    "tags": []
   },
   "outputs": [
    {
     "data": {
      "text/plain": [
       "<seaborn.axisgrid.FacetGrid at 0x1ad622bcb50>"
      ]
     },
     "execution_count": 10,
     "metadata": {},
     "output_type": "execute_result"
    },
    {
     "data": {
      "image/png": "[encoded data removed]",
      "text/plain": [
       "<Figure size 360x360 with 1 Axes>"
      ]
     },
     "metadata": {
      "needs_background": "light"
     },
     "output_type": "display_data"
    }
   ],
   "source": [
    "sns.displot(df.label)"
   ]
  },
  {
   "cell_type": "code",
   "execution_count": 11,
   "id": "1e5d71e4-67de-4bd5-be20-f1e09f9bf0e3",
   "metadata": {
    "tags": []
   },
   "outputs": [
    {
     "name": "stderr",
     "output_type": "stream",
     "text": [
      "[nltk_data] Downloading package stopwords to\n",
      "[nltk_data]     C:\\Users\\murth\\AppData\\Roaming\\nltk_data...\n",
      "[nltk_data]   Package stopwords is already up-to-date!\n"
     ]
    },
    {
     "data": {
      "text/plain": [
       "True"
      ]
     },
     "execution_count": 11,
     "metadata": {},
     "output_type": "execute_result"
    }
   ],
   "source": [
    "import nltk\n",
    "nltk.download('stopwords')"
   ]
  },
  {
   "cell_type": "code",
   "execution_count": 12,
   "id": "9ae23bd6-3a4e-4dcb-9b51-0ffd496183ab",
   "metadata": {
    "tags": []
   },
   "outputs": [
    {
     "name": "stderr",
     "output_type": "stream",
     "text": [
      "[nltk_data] Downloading package punkt to\n",
      "[nltk_data]     C:\\Users\\murth\\AppData\\Roaming\\nltk_data...\n",
      "[nltk_data]   Package punkt is already up-to-date!\n"
     ]
    },
    {
     "data": {
      "text/plain": [
       "True"
      ]
     },
     "execution_count": 12,
     "metadata": {},
     "output_type": "execute_result"
    }
   ],
   "source": [
    "nltk.download('punkt')"
   ]
  },
  {
   "cell_type": "code",
   "execution_count": 13,
   "id": "f98cf81d-11aa-4b32-8584-05c26e0d5fe1",
   "metadata": {
    "tags": []
   },
   "outputs": [],
   "source": [
    "df.drop_duplicates(inplace=True)"
   ]
  },
  {
   "cell_type": "code",
   "execution_count": 14,
   "id": "af183b92-e649-4629-beea-67b38bb321ce",
   "metadata": {
    "tags": []
   },
   "outputs": [],
   "source": [
    "import nltk\n",
    "from nltk.stem.porter import PorterStemmer\n",
    "import re\n",
    "import string\n",
    "\n",
    "pr = PorterStemmer()\n",
    "\n",
    "\n",
    "def process_words(text):    \n",
    "   \n",
    "    # Removing Punctuation\n",
    "    nopun = [chir for chir in text if chir not in string.punctuation]\n",
    "   \n",
    "    # Joining the char into words again\n",
    "    nopun = ''.join(nopun)\n",
    "  \n",
    "    # tokenize the word\n",
    "    token = nltk.word_tokenize(nopun)\n",
    " \n",
    "    # find the root word  ad removing Stop words\n",
    "    with_stem_words = [pr.stem(word) for word in nopun.split() if word.lower() not in stopwords.words('english')]\n",
    "  \n",
    "    return with_stem_words\n",
    "    "
   ]
  },
  {
   "cell_type": "code",
   "execution_count": 15,
   "id": "2c23b8dc-4d99-48a8-94cc-49e6dd68aef6",
   "metadata": {
    "tags": []
   },
   "outputs": [],
   "source": [
    "X = df['text'].apply(process_words)"
   ]
  },
  {
   "cell_type": "code",
   "execution_count": 16,
   "id": "bd646789-ef70-412e-8776-d0efb5292d3a",
   "metadata": {
    "tags": []
   },
   "outputs": [
    {
     "data": {
      "text/plain": [
       "1796    [hey, tell, blake, address, carlo, want, meet,...\n",
       "1850    [cant, get, da, laptop, matric, card, wif, ì, ...\n",
       "5484    [pick, variou, point, go, 2, yeovil, motor, pr...\n",
       "2179                         [pop, ltgt, ibuprofen, help]\n",
       "3920    [1, thing, chang, sentenc, want, 2, concentr, ...\n",
       "                              ...                        \n",
       "5537    [want, explicit, sex, 30, sec, ring, 020731624...\n",
       "5540    [ask, 3mobil, 0870, chatlin, inclu, free, min,...\n",
       "5547    [contract, mobil, 11, mnth, latest, motorola, ...\n",
       "5566    [remind, o2, get, 250, pound, free, call, cred...\n",
       "5567    [2nd, time, tri, 2, contact, u, u, å£750, poun...\n",
       "Name: text, Length: 1386, dtype: object"
      ]
     },
     "execution_count": 16,
     "metadata": {},
     "output_type": "execute_result"
    }
   ],
   "source": [
    "X"
   ]
  },
  {
   "cell_type": "code",
   "execution_count": 17,
   "id": "88c428e3-1efa-48f4-b145-c6a26cb3a853",
   "metadata": {
    "tags": []
   },
   "outputs": [],
   "source": [
    "y = df['label'].apply(lambda x : 1 if x=='spam' else 0 )"
   ]
  },
  {
   "cell_type": "code",
   "execution_count": 18,
   "id": "d0914a85-6f99-4b44-bdc8-7f252ed0fb54",
   "metadata": {
    "tags": []
   },
   "outputs": [
    {
     "data": {
      "text/plain": [
       "1796    0\n",
       "1850    0\n",
       "5484    0\n",
       "2179    0\n",
       "3920    0\n",
       "       ..\n",
       "5537    1\n",
       "5540    1\n",
       "5547    1\n",
       "5566    1\n",
       "5567    1\n",
       "Name: label, Length: 1386, dtype: int64"
      ]
     },
     "execution_count": 18,
     "metadata": {},
     "output_type": "execute_result"
    }
   ],
   "source": [
    "y"
   ]
  },
  {
   "cell_type": "code",
   "execution_count": 19,
   "id": "32b24dc2-5353-4e70-bf06-036b3b46dc34",
   "metadata": {
    "tags": []
   },
   "outputs": [],
   "source": [
    "X_train, X_test, y_train, y_test = train_test_split(X, y, test_size=0.2, random_state=42)\n"
   ]
  },
  {
   "cell_type": "code",
   "execution_count": 23,
   "id": "520cb896-6a1d-4fc1-b952-cbf2f385286b",
   "metadata": {
    "tags": []
   },
   "outputs": [],
   "source": [
    "# Define parameters\n",
    "vocab_size = 10000 # number of words in the vocabulary\n",
    "max_len = 100 # maximum length of each sequence\n",
    "embedding_dim = 64 # dimension of the word embeddings\n",
    "oov_tok = \"<OOV>\" # token for out-of-vocabulary words\n",
    "\n",
    "# Create tokenizer and fit on training data\n",
    "tokenizer = Tokenizer(num_words=vocab_size, oov_token=oov_tok)\n",
    "tokenizer.fit_on_texts(X_train)"
   ]
  },
  {
   "cell_type": "code",
   "execution_count": 24,
   "id": "a4c8e787-a59c-4988-91a5-28bdc814ad28",
   "metadata": {
    "tags": []
   },
   "outputs": [],
   "source": [
    "\n",
    "# Convert text to sequences and pad them\n",
    "X_train_seq = tokenizer.texts_to_sequences(X_train)\n",
    "X_train_pad = pad_sequences(X_train_seq, maxlen=max_len, padding='post', truncating='post')\n"
   ]
  },
  {
   "cell_type": "code",
   "execution_count": 25,
   "id": "52c18744-8288-4553-a7e4-1df5436564c9",
   "metadata": {
    "tags": []
   },
   "outputs": [
    {
     "data": {
      "text/plain": [
       "array([  12,   30,  138,  173, 1447, 1448,  458,  564, 1449,   19,   10,\n",
       "        565,  117,   24,    0,    0,    0,    0,    0,    0,    0,    0,\n",
       "          0,    0,    0,    0,    0,    0,    0,    0,    0,    0,    0,\n",
       "          0,    0,    0,    0,    0,    0,    0,    0,    0,    0,    0,\n",
       "          0,    0,    0,    0,    0,    0,    0,    0,    0,    0,    0,\n",
       "          0,    0,    0,    0,    0,    0,    0,    0,    0,    0,    0,\n",
       "          0,    0,    0,    0,    0,    0,    0,    0,    0,    0,    0,\n",
       "          0,    0,    0,    0,    0,    0,    0,    0,    0,    0,    0,\n",
       "          0,    0,    0,    0,    0,    0,    0,    0,    0,    0,    0,\n",
       "          0])"
      ]
     },
     "execution_count": 25,
     "metadata": {},
     "output_type": "execute_result"
    }
   ],
   "source": [
    "X_train_pad[0]"
   ]
  },
  {
   "cell_type": "code",
   "execution_count": 26,
   "id": "95d428f9-3e0a-4830-ad89-9d0cf2a46904",
   "metadata": {
    "tags": []
   },
   "outputs": [],
   "source": [
    "X_test_seq = tokenizer.texts_to_sequences(X_test)\n",
    "X_test_pad = pad_sequences(X_test_seq, maxlen=max_len, padding='post', truncating='post')"
   ]
  },
  {
   "cell_type": "code",
   "execution_count": 27,
   "id": "95f4f5ce-6cb0-4f6d-ad78-a99f42243814",
   "metadata": {
    "tags": []
   },
   "outputs": [
    {
     "data": {
      "text/plain": [
       "array([1892,  204,  247,  888, 2132,    1,  875,    0,    0,    0,    0,\n",
       "          0,    0,    0,    0,    0,    0,    0,    0,    0,    0,    0,\n",
       "          0,    0,    0,    0,    0,    0,    0,    0,    0,    0,    0,\n",
       "          0,    0,    0,    0,    0,    0,    0,    0,    0,    0,    0,\n",
       "          0,    0,    0,    0,    0,    0,    0,    0,    0,    0,    0,\n",
       "          0,    0,    0,    0,    0,    0,    0,    0,    0,    0,    0,\n",
       "          0,    0,    0,    0,    0,    0,    0,    0,    0,    0,    0,\n",
       "          0,    0,    0,    0,    0,    0,    0,    0,    0,    0,    0,\n",
       "          0,    0,    0,    0,    0,    0,    0,    0,    0,    0,    0,\n",
       "          0])"
      ]
     },
     "execution_count": 27,
     "metadata": {},
     "output_type": "execute_result"
    }
   ],
   "source": [
    "X_test_pad[0]"
   ]
  },
  {
   "cell_type": "code",
   "execution_count": 28,
   "id": "ea34ae29-3dc9-4a62-b199-12a27065cbec",
   "metadata": {
    "tags": []
   },
   "outputs": [],
   "source": [
    "model = Sequential()\n",
    "model.add(Embedding(vocab_size, 32, input_length=max_len))\n",
    "model.add(GlobalAveragePooling1D())\n",
    "model.add(Dense(32, activation='relu'))\n",
    "model.add(Dropout(0.4))\n",
    "model.add(Dense(12, activation='relu'))\n",
    "model.add(Dropout(0.3))\n",
    "model.add(Dense(1, activation='sigmoid'))\n",
    "\n",
    "model.compile(loss='binary_crossentropy', optimizer='adam', metrics=['accuracy'])\n"
   ]
  },
  {
   "cell_type": "code",
   "execution_count": 29,
   "id": "6072687b-8e1a-4c74-8101-b2d309b21cb0",
   "metadata": {
    "tags": []
   },
   "outputs": [
    {
     "name": "stdout",
     "output_type": "stream",
     "text": [
      "Model: \"sequential\"\n",
      "_________________________________________________________________\n",
      " Layer (type)                Output Shape              Param #   \n",
      "=================================================================\n",
      " embedding (Embedding)       (None, 100, 32)           320000    \n",
      "                                                                 \n",
      " global_average_pooling1d (G  (None, 32)               0         \n",
      " lobalAveragePooling1D)                                          \n",
      "                                                                 \n",
      " dense (Dense)               (None, 32)                1056      \n",
      "                                                                 \n",
      " dropout (Dropout)           (None, 32)                0         \n",
      "                                                                 \n",
      " dense_1 (Dense)             (None, 12)                396       \n",
      "                                                                 \n",
      " dropout_1 (Dropout)         (None, 12)                0         \n",
      "                                                                 \n",
      " dense_2 (Dense)             (None, 1)                 13        \n",
      "                                                                 \n",
      "=================================================================\n",
      "Total params: 321,465\n",
      "Trainable params: 321,465\n",
      "Non-trainable params: 0\n",
      "_________________________________________________________________\n"
     ]
    }
   ],
   "source": [
    "model.summary()"
   ]
  },
  {
   "cell_type": "code",
   "execution_count": 30,
   "id": "5a598e21-f590-4733-bc56-77b19942cff2",
   "metadata": {
    "tags": []
   },
   "outputs": [],
   "source": [
    "num_epochs = 20\n",
    "early_stop = EarlyStopping(patience=2,verbose=1)"
   ]
  },
  {
   "cell_type": "code",
   "execution_count": 31,
   "id": "7060f8ee-fa67-42e1-818a-0ebe2b668429",
   "metadata": {
    "tags": []
   },
   "outputs": [
    {
     "name": "stdout",
     "output_type": "stream",
     "text": [
      "Epoch 1/20\n",
      "35/35 - 2s - loss: 0.6916 - accuracy: 0.5144 - val_loss: 0.6929 - val_accuracy: 0.4928 - 2s/epoch - 62ms/step\n",
      "Epoch 2/20\n",
      "35/35 - 0s - loss: 0.6884 - accuracy: 0.5388 - val_loss: 0.6908 - val_accuracy: 0.4928 - 269ms/epoch - 8ms/step\n",
      "Epoch 3/20\n",
      "35/35 - 0s - loss: 0.6834 - accuracy: 0.5379 - val_loss: 0.6870 - val_accuracy: 0.4928 - 273ms/epoch - 8ms/step\n",
      "Epoch 4/20\n",
      "35/35 - 0s - loss: 0.6774 - accuracy: 0.5397 - val_loss: 0.6745 - val_accuracy: 0.4928 - 267ms/epoch - 8ms/step\n",
      "Epoch 5/20\n",
      "35/35 - 0s - loss: 0.6556 - accuracy: 0.6110 - val_loss: 0.6409 - val_accuracy: 0.6043 - 265ms/epoch - 8ms/step\n",
      "Epoch 6/20\n",
      "35/35 - 0s - loss: 0.6049 - accuracy: 0.7590 - val_loss: 0.5718 - val_accuracy: 0.7482 - 260ms/epoch - 7ms/step\n",
      "Epoch 7/20\n",
      "35/35 - 0s - loss: 0.5171 - accuracy: 0.8258 - val_loss: 0.4620 - val_accuracy: 0.8957 - 288ms/epoch - 8ms/step\n",
      "Epoch 8/20\n",
      "35/35 - 0s - loss: 0.3967 - accuracy: 0.9016 - val_loss: 0.3396 - val_accuracy: 0.9317 - 279ms/epoch - 8ms/step\n",
      "Epoch 9/20\n",
      "35/35 - 0s - loss: 0.2764 - accuracy: 0.9404 - val_loss: 0.2449 - val_accuracy: 0.9317 - 292ms/epoch - 8ms/step\n",
      "Epoch 10/20\n",
      "35/35 - 0s - loss: 0.2021 - accuracy: 0.9603 - val_loss: 0.1928 - val_accuracy: 0.9317 - 260ms/epoch - 7ms/step\n",
      "Epoch 11/20\n",
      "35/35 - 0s - loss: 0.1519 - accuracy: 0.9657 - val_loss: 0.1648 - val_accuracy: 0.9460 - 268ms/epoch - 8ms/step\n",
      "Epoch 12/20\n",
      "35/35 - 0s - loss: 0.1221 - accuracy: 0.9693 - val_loss: 0.1741 - val_accuracy: 0.9317 - 265ms/epoch - 8ms/step\n",
      "Epoch 13/20\n",
      "35/35 - 0s - loss: 0.1072 - accuracy: 0.9747 - val_loss: 0.1441 - val_accuracy: 0.9532 - 305ms/epoch - 9ms/step\n",
      "Epoch 14/20\n",
      "35/35 - 0s - loss: 0.0847 - accuracy: 0.9819 - val_loss: 0.1583 - val_accuracy: 0.9388 - 262ms/epoch - 7ms/step\n",
      "Epoch 15/20\n",
      "35/35 - 0s - loss: 0.0889 - accuracy: 0.9756 - val_loss: 0.1404 - val_accuracy: 0.9532 - 265ms/epoch - 8ms/step\n",
      "Epoch 16/20\n",
      "35/35 - 0s - loss: 0.0695 - accuracy: 0.9847 - val_loss: 0.1352 - val_accuracy: 0.9496 - 267ms/epoch - 8ms/step\n",
      "Epoch 17/20\n",
      "35/35 - 0s - loss: 0.0509 - accuracy: 0.9910 - val_loss: 0.1571 - val_accuracy: 0.9460 - 287ms/epoch - 8ms/step\n",
      "Epoch 18/20\n",
      "35/35 - 0s - loss: 0.0652 - accuracy: 0.9856 - val_loss: 0.1458 - val_accuracy: 0.9532 - 308ms/epoch - 9ms/step\n",
      "Epoch 18: early stopping\n"
     ]
    }
   ],
   "source": [
    "history = model.fit(X_train_pad, y_train,epochs=num_epochs,verbose=2,validation_data=(X_test_pad,y_test),callbacks=[early_stop])"
   ]
  },
  {
   "cell_type": "code",
   "execution_count": 32,
   "id": "ced05a56-0d59-4940-aaf3-56fce5bb4936",
   "metadata": {
    "tags": []
   },
   "outputs": [
    {
     "name": "stdout",
     "output_type": "stream",
     "text": [
      "9/9 [==============================] - 0s 3ms/step - loss: 0.1458 - accuracy: 0.9532\n"
     ]
    },
    {
     "data": {
      "text/plain": [
       "[0.14584141969680786, 0.9532374143600464]"
      ]
     },
     "execution_count": 32,
     "metadata": {},
     "output_type": "execute_result"
    }
   ],
   "source": [
    "model.evaluate(X_test_pad,y_test)"
   ]
  },
  {
   "cell_type": "code",
   "execution_count": 39,
   "id": "bab89126-1c83-4b25-a8e2-ec51ed2d07c0",
   "metadata": {
    "tags": []
   },
   "outputs": [],
   "source": [
    "# Read as a dataframe \n",
    "metrics = pd.DataFrame(history.history)\n",
    "\n",
    "metrics.rename(columns = {'loss': 'Training_Loss', 'accuracy': 'Training_Accuracy', 'val_loss': 'Validation_Loss', 'val_accuracy': 'Validation_Accuracy'}, inplace = True)\n",
    "\n",
    "def plot_graphs1(var1, var2, string):\n",
    "    metrics[[var1, var2]].plot()\n",
    "    plt.title('Training and Validation ' + string)\n",
    "    plt.xlabel ('Number of epochs')\n",
    "    plt.ylabel(string)\n",
    "    plt.legend([var1, var2])"
   ]
  },
  {
   "cell_type": "code",
   "execution_count": 40,
   "id": "fae5bf6f-7e08-4c82-8997-45ec12955bb4",
   "metadata": {
    "tags": []
   },
   "outputs": [
    {
     "data": {
      "image/png": "[encoded data removed]",
      "text/plain": [
       "<Figure size 432x288 with 1 Axes>"
      ]
     },
     "metadata": {
      "needs_background": "light"
     },
     "output_type": "display_data"
    }
   ],
   "source": [
    "plot_graphs1('Training_Loss', 'Validation_Loss', 'loss')\n"
   ]
  },
  {
   "cell_type": "code",
   "execution_count": 41,
   "id": "62251abf-5347-4713-85f1-57a4d8bdf645",
   "metadata": {
    "tags": []
   },
   "outputs": [
    {
     "data": {
      "image/png": "[encoded data removed]",
      "text/plain": [
       "<Figure size 432x288 with 1 Axes>"
      ]
     },
     "metadata": {
      "needs_background": "light"
     },
     "output_type": "display_data"
    }
   ],
   "source": [
    "plot_graphs1('Training_Accuracy', 'Validation_Accuracy', 'accuracy')\n"
   ]
  },
  {
   "cell_type": "markdown",
   "id": "e7c0b3c3-1b22-4139-8210-a6f5684826c8",
   "metadata": {},
   "source": [
    "### LSTM Model"
   ]
  },
  {
   "cell_type": "code",
   "execution_count": 44,
   "id": "0c63ac58-d5fe-4db6-ac02-f46b64494b7b",
   "metadata": {
    "tags": []
   },
   "outputs": [],
   "source": [
    "n_lstm = 10\n",
    "drop_lstm = 0.3\n",
    "\n",
    "model1 = Sequential()\n",
    "model1.add(Embedding(vocab_size, 32, input_length=max_len))\n",
    "model1.add(LSTM(n_lstm,dropout=drop_lstm,return_sequences=True))\n",
    "model1.add(LSTM(n_lstm,dropout=drop_lstm,return_sequences=True))\n",
    "model1.add(Dense(1,activation='sigmoid'))\n",
    "\n",
    "model1.compile(loss='binary_crossentropy',optimizer = 'adam',metrics=['accuracy'])"
   ]
  },
  {
   "cell_type": "code",
   "execution_count": 47,
   "id": "04e3bed8-0d4b-4a91-8a7c-78d2783b8ee2",
   "metadata": {
    "tags": []
   },
   "outputs": [],
   "source": [
    "num_epochs = 30\n",
    "early_stop = EarlyStopping(monitor='val_loss', patience=2)\n"
   ]
  },
  {
   "cell_type": "code",
   "execution_count": 49,
   "id": "5fea04ea-e1b6-4113-a32f-e9433c82330f",
   "metadata": {
    "tags": []
   },
   "outputs": [
    {
     "name": "stdout",
     "output_type": "stream",
     "text": [
      "Epoch 1/30\n",
      "35/35 - 6s - loss: 0.6890 - accuracy: 0.5539 - val_loss: 0.6954 - val_accuracy: 0.4982 - 6s/epoch - 175ms/step\n",
      "Epoch 2/30\n",
      "35/35 - 2s - loss: 0.6819 - accuracy: 0.5936 - val_loss: 0.6820 - val_accuracy: 0.5986 - 2s/epoch - 53ms/step\n",
      "Epoch 3/30\n",
      "35/35 - 2s - loss: 0.6133 - accuracy: 0.7378 - val_loss: 0.4167 - val_accuracy: 0.9051 - 2s/epoch - 54ms/step\n",
      "Epoch 4/30\n",
      "35/35 - 2s - loss: 0.2653 - accuracy: 0.9596 - val_loss: 0.2718 - val_accuracy: 0.9285 - 2s/epoch - 61ms/step\n",
      "Epoch 5/30\n",
      "35/35 - 2s - loss: 0.1642 - accuracy: 0.9738 - val_loss: 0.2411 - val_accuracy: 0.9324 - 2s/epoch - 56ms/step\n",
      "Epoch 6/30\n",
      "35/35 - 2s - loss: 0.1196 - accuracy: 0.9816 - val_loss: 0.1925 - val_accuracy: 0.9487 - 2s/epoch - 55ms/step\n",
      "Epoch 7/30\n",
      "35/35 - 2s - loss: 0.1031 - accuracy: 0.9827 - val_loss: 0.1778 - val_accuracy: 0.9535 - 2s/epoch - 55ms/step\n",
      "Epoch 8/30\n",
      "35/35 - 2s - loss: 0.0828 - accuracy: 0.9870 - val_loss: 0.1875 - val_accuracy: 0.9508 - 2s/epoch - 56ms/step\n",
      "Epoch 9/30\n",
      "35/35 - 2s - loss: 0.0729 - accuracy: 0.9886 - val_loss: 0.2120 - val_accuracy: 0.9446 - 2s/epoch - 56ms/step\n"
     ]
    }
   ],
   "source": [
    "history = model1.fit(X_train_pad, y_train,epochs=num_epochs,verbose=2,validation_data=(X_test_pad,y_test),callbacks=[early_stop])"
   ]
  },
  {
   "cell_type": "code",
   "execution_count": 50,
   "id": "e801aadb-d4f4-4714-bc8f-dd33059f7d51",
   "metadata": {
    "tags": []
   },
   "outputs": [],
   "source": [
    "metrics = pd.DataFrame(history.history)\n",
    "\n",
    "metrics.rename(columns = {'loss': 'Training_Loss', 'accuracy': 'Training_Accuracy', 'val_loss': 'Validation_Loss', 'val_accuracy': 'Validation_Accuracy'}, inplace = True)\n",
    "\n",
    "def plot_graphs1(var1, var2, string):\n",
    "    metrics[[var1, var2]].plot()\n",
    "    plt.title('Training and Validation ' + string)\n",
    "    plt.xlabel ('Number of epochs')\n",
    "    plt.ylabel(string)\n",
    "    plt.legend([var1, var2])"
   ]
  },
  {
   "cell_type": "code",
   "execution_count": 51,
   "id": "c7609259-fe20-4b92-a9a5-37f1f1e3003a",
   "metadata": {
    "tags": []
   },
   "outputs": [
    {
     "data": {
      "image/png": "[encoded data removed]",
      "text/plain": [
       "<Figure size 432x288 with 1 Axes>"
      ]
     },
     "metadata": {
      "needs_background": "light"
     },
     "output_type": "display_data"
    }
   ],
   "source": [
    "plot_graphs1('Training_Loss', 'Validation_Loss', 'loss')\n"
   ]
  },
  {
   "cell_type": "code",
   "execution_count": 52,
   "id": "b81692dd-c5b4-40d6-9b5d-b1675343fdac",
   "metadata": {
    "tags": []
   },
   "outputs": [
    {
     "data": {
      "image/png": "[encoded data removed]",
      "text/plain": [
       "<Figure size 432x288 with 1 Axes>"
      ]
     },
     "metadata": {
      "needs_background": "light"
     },
     "output_type": "display_data"
    }
   ],
   "source": [
    "plot_graphs1('Training_Accuracy', 'Validation_Accuracy', 'accuracy')\n"
   ]
  },
  {
   "cell_type": "markdown",
   "id": "70676cf6-fc3f-4697-acea-74f468b3cd83",
   "metadata": {},
   "source": [
    "## Bi LSTM"
   ]
  },
  {
   "cell_type": "code",
   "execution_count": 60,
   "id": "eb01e584-8998-4e97-8eac-486cd0635f76",
   "metadata": {
    "tags": []
   },
   "outputs": [],
   "source": [
    "n_lstm = 10\n",
    "drop_lstm = 0.3\n",
    "\n",
    "model2 = Sequential()\n",
    "model2.add(Embedding(vocab_size, 64, input_length=max_len))\n",
    "model2.add(Bidirectional(LSTM(n_lstm,dropout=drop_lstm,return_sequences=True)))\n",
    "model2.add(Bidirectional(LSTM(n_lstm,dropout=drop_lstm,return_sequences=True)))\n",
    "model2.add(Dense(1,activation='sigmoid'))\n",
    "\n",
    "model2.compile(loss='binary_crossentropy',optimizer = 'adam',metrics=['accuracy'])"
   ]
  },
  {
   "cell_type": "code",
   "execution_count": 61,
   "id": "6e2587b9-de2f-45b8-aab0-43da3ed6ce52",
   "metadata": {
    "tags": []
   },
   "outputs": [],
   "source": [
    "num_epochs = 30\n",
    "early_stop = EarlyStopping(monitor='val_loss', patience=2)\n"
   ]
  },
  {
   "cell_type": "code",
   "execution_count": 62,
   "id": "9761054c-0e20-4a84-964a-bb9110757b8d",
   "metadata": {
    "tags": []
   },
   "outputs": [
    {
     "name": "stdout",
     "output_type": "stream",
     "text": [
      "Epoch 1/30\n",
      "35/35 - 10s - loss: 0.6883 - accuracy: 0.5475 - val_loss: 0.6892 - val_accuracy: 0.5607 - 10s/epoch - 298ms/step\n",
      "Epoch 2/30\n",
      "35/35 - 3s - loss: 0.6699 - accuracy: 0.6262 - val_loss: 0.6278 - val_accuracy: 0.6819 - 3s/epoch - 79ms/step\n",
      "Epoch 3/30\n",
      "35/35 - 3s - loss: 0.3083 - accuracy: 0.9141 - val_loss: 0.1838 - val_accuracy: 0.9465 - 3s/epoch - 75ms/step\n",
      "Epoch 4/30\n",
      "35/35 - 3s - loss: 0.1015 - accuracy: 0.9788 - val_loss: 0.1727 - val_accuracy: 0.9468 - 3s/epoch - 80ms/step\n",
      "Epoch 5/30\n",
      "35/35 - 3s - loss: 0.0514 - accuracy: 0.9915 - val_loss: 0.1564 - val_accuracy: 0.9541 - 3s/epoch - 80ms/step\n",
      "Epoch 6/30\n",
      "35/35 - 3s - loss: 0.0368 - accuracy: 0.9945 - val_loss: 0.1612 - val_accuracy: 0.9530 - 3s/epoch - 82ms/step\n",
      "Epoch 7/30\n",
      "35/35 - 3s - loss: 0.0310 - accuracy: 0.9947 - val_loss: 0.1782 - val_accuracy: 0.9566 - 3s/epoch - 80ms/step\n"
     ]
    }
   ],
   "source": [
    "history = model2.fit(X_train_pad, y_train,epochs=num_epochs,verbose=2,validation_data=(X_test_pad,y_test),callbacks=[early_stop])"
   ]
  },
  {
   "cell_type": "code",
   "execution_count": 65,
   "id": "63b06d64-833b-47ee-9ff9-5907ea67f2f9",
   "metadata": {
    "tags": []
   },
   "outputs": [],
   "source": [
    "metrics = pd.DataFrame(history.history)\n",
    "\n",
    "metrics.rename(columns = {'loss': 'Training_Loss', 'accuracy': 'Training_Accuracy', 'val_loss': 'Validation_Loss', 'val_accuracy': 'Validation_Accuracy'}, inplace = True)\n",
    "\n",
    "def plot_graphs1(var1, var2, string):\n",
    "    metrics[[var1, var2]].plot()\n",
    "    plt.title('Training and Validation ' + string)\n",
    "    plt.xlabel ('Number of epochs')\n",
    "    plt.ylabel(string)\n",
    "    plt.legend([var1, var2])"
   ]
  },
  {
   "cell_type": "code",
   "execution_count": 66,
   "id": "2e5d6d19-7d02-482e-880f-dafe9ab95fec",
   "metadata": {
    "tags": []
   },
   "outputs": [
    {
     "data": {
      "image/png": "[encoded data removed]",
      "text/plain": [
       "<Figure size 432x288 with 1 Axes>"
      ]
     },
     "metadata": {
      "needs_background": "light"
     },
     "output_type": "display_data"
    }
   ],
   "source": [
    "plot_graphs1('Training_Loss', 'Validation_Loss', 'loss')\n"
   ]
  },
  {
   "cell_type": "code",
   "execution_count": 67,
   "id": "4478b4fa-7b6a-4b24-a97e-89101a8e972c",
   "metadata": {
    "tags": []
   },
   "outputs": [
    {
     "data": {
      "image/png": "[encoded data removed]",
      "text/plain": [
       "<Figure size 432x288 with 1 Axes>"
      ]
     },
     "metadata": {
      "needs_background": "light"
     },
     "output_type": "display_data"
    }
   ],
   "source": [
    "plot_graphs1('Training_Accuracy', 'Validation_Accuracy', 'accuracy')\n"
   ]
  },
  {
   "cell_type": "markdown",
   "id": "a74519a7-d668-4141-8aee-d6c674dbf897",
   "metadata": {},
   "source": [
    "### Saving the Bi LSTM model"
   ]
  },
  {
   "cell_type": "code",
   "execution_count": 68,
   "id": "5c99877c-c2ee-48fc-823b-ebf8169c58a4",
   "metadata": {
    "tags": []
   },
   "outputs": [],
   "source": [
    "model2.save('BiLSTM.h5')"
   ]
  },
  {
   "cell_type": "code",
   "execution_count": null,
   "id": "b04be0c4-3998-4dc4-b9fd-54801cd6c959",
   "metadata": {},
   "outputs": [],
   "source": []
  }
 ],
 "metadata": {
  "kernelspec": {
   "display_name": "spam",
   "language": "python",
   "name": "spam"
  },
  "language_info": {
   "codemirror_mode": {
    "name": "ipython",
    "version": 3
   },
   "file_extension": ".py",
   "mimetype": "text/x-python",
   "name": "python",
   "nbconvert_exporter": "python",
   "pygments_lexer": "ipython3",
   "version": "3.11.2"
  }
 },
 "nbformat": 4,
 "nbformat_minor": 5
}
