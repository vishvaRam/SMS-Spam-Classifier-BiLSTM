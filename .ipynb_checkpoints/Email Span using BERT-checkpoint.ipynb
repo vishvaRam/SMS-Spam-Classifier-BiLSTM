{
 "cells": [
  {
   "cell_type": "markdown",
   "id": "9cb44af5-8b91-4e93-a5a4-a4eddec70dce",
   "metadata": {},
   "source": [
    "# Email Spam Classification using BERT"
   ]
  },
  {
   "cell_type": "code",
   "execution_count": 1,
   "id": "89afe2e9-5943-4271-94c1-59900a2688dd",
   "metadata": {},
   "outputs": [],
   "source": [
    "import pandas as pd\n",
    "import numpy as np\n",
    "import tensorflow_text\n",
    "import tensorflow_hub as hub"
   ]
  },
  {
   "cell_type": "code",
   "execution_count": 2,
   "id": "8d1c0cc1-de7c-45c0-984c-c775164a32ad",
   "metadata": {},
   "outputs": [],
   "source": [
    "df = pd.read_csv(r\"D:\\Data Science\\DataSets\\Email\\spam.csv\")"
   ]
  },
  {
   "cell_type": "code",
   "execution_count": 3,
   "id": "248b0a3a-2fa4-4bb2-8020-1cf1244f26cb",
   "metadata": {},
   "outputs": [
    {
     "data": {
      "text/html": [
       "<div>\n",
       "<style scoped>\n",
       "    .dataframe tbody tr th:only-of-type {\n",
       "        vertical-align: middle;\n",
       "    }\n",
       "\n",
       "    .dataframe tbody tr th {\n",
       "        vertical-align: top;\n",
       "    }\n",
       "\n",
       "    .dataframe thead th {\n",
       "        text-align: right;\n",
       "    }\n",
       "</style>\n",
       "<table border=\"1\" class=\"dataframe\">\n",
       "  <thead>\n",
       "    <tr style=\"text-align: right;\">\n",
       "      <th></th>\n",
       "      <th>Category</th>\n",
       "      <th>Message</th>\n",
       "    </tr>\n",
       "  </thead>\n",
       "  <tbody>\n",
       "    <tr>\n",
       "      <th>count</th>\n",
       "      <td>5572</td>\n",
       "      <td>5572</td>\n",
       "    </tr>\n",
       "    <tr>\n",
       "      <th>unique</th>\n",
       "      <td>2</td>\n",
       "      <td>5157</td>\n",
       "    </tr>\n",
       "    <tr>\n",
       "      <th>top</th>\n",
       "      <td>ham</td>\n",
       "      <td>Sorry, I'll call later</td>\n",
       "    </tr>\n",
       "    <tr>\n",
       "      <th>freq</th>\n",
       "      <td>4825</td>\n",
       "      <td>30</td>\n",
       "    </tr>\n",
       "  </tbody>\n",
       "</table>\n",
       "</div>"
      ],
      "text/plain": [
       "       Category                 Message\n",
       "count      5572                    5572\n",
       "unique        2                    5157\n",
       "top         ham  Sorry, I'll call later\n",
       "freq       4825                      30"
      ]
     },
     "execution_count": 3,
     "metadata": {},
     "output_type": "execute_result"
    }
   ],
   "source": [
    "df.describe()"
   ]
  },
  {
   "cell_type": "code",
   "execution_count": 4,
   "id": "a10e254e-b59e-4563-9369-809f14c262a1",
   "metadata": {},
   "outputs": [
    {
     "data": {
      "text/plain": [
       "Category    0\n",
       "Message     0\n",
       "dtype: int64"
      ]
     },
     "execution_count": 4,
     "metadata": {},
     "output_type": "execute_result"
    }
   ],
   "source": [
    "df.isnull().sum()"
   ]
  },
  {
   "cell_type": "code",
   "execution_count": 5,
   "id": "ac541efe-e436-42b4-b41a-8efb73619ca3",
   "metadata": {},
   "outputs": [
    {
     "data": {
      "text/plain": [
       "ham     4825\n",
       "spam     747\n",
       "Name: Category, dtype: int64"
      ]
     },
     "execution_count": 5,
     "metadata": {},
     "output_type": "execute_result"
    }
   ],
   "source": [
    "df['Category'].value_counts()"
   ]
  },
  {
   "cell_type": "markdown",
   "id": "71254755-af10-4854-a0c8-20bee701e5bc",
   "metadata": {},
   "source": [
    "## Due to imbalance dataset we are going to down samle "
   ]
  },
  {
   "cell_type": "code",
   "execution_count": 6,
   "id": "7923e7b2-6434-4d91-942c-7c491ac16aa7",
   "metadata": {},
   "outputs": [
    {
     "data": {
      "text/plain": [
       "(4825, 2)"
      ]
     },
     "execution_count": 6,
     "metadata": {},
     "output_type": "execute_result"
    }
   ],
   "source": [
    "df_ham = df[df['Category']=='ham']\n",
    "df_ham.shape"
   ]
  },
  {
   "cell_type": "code",
   "execution_count": 7,
   "id": "ebc15abc-60ad-468b-9ab8-155bafecee5a",
   "metadata": {},
   "outputs": [
    {
     "data": {
      "text/plain": [
       "(747, 2)"
      ]
     },
     "execution_count": 7,
     "metadata": {},
     "output_type": "execute_result"
    }
   ],
   "source": [
    "df_spam = df[df['Category']=='spam']\n",
    "df_spam.shape"
   ]
  },
  {
   "cell_type": "code",
   "execution_count": 8,
   "id": "609c48cc-ad2b-48b0-aa40-1d52de964780",
   "metadata": {},
   "outputs": [
    {
     "data": {
      "text/plain": [
       "(747, 2)"
      ]
     },
     "execution_count": 8,
     "metadata": {},
     "output_type": "execute_result"
    }
   ],
   "source": [
    "df_downsampled = df_ham.sample(df_spam.shape[0])\n",
    "df_downsampled.shape"
   ]
  },
  {
   "cell_type": "code",
   "execution_count": 9,
   "id": "84fb2dd4-f90e-4513-84c9-d70e4e5170cf",
   "metadata": {},
   "outputs": [],
   "source": [
    "df_balance = pd.concat([df_spam,df_downsampled])"
   ]
  },
  {
   "cell_type": "code",
   "execution_count": 10,
   "id": "975e11f4-13ce-4a2b-b160-55407c37df6c",
   "metadata": {},
   "outputs": [
    {
     "data": {
      "text/plain": [
       "(1494, 2)"
      ]
     },
     "execution_count": 10,
     "metadata": {},
     "output_type": "execute_result"
    }
   ],
   "source": [
    "df_balance.shape"
   ]
  },
  {
   "cell_type": "code",
   "execution_count": 11,
   "id": "386f1651-99aa-4fa8-a8b3-ff528b28d055",
   "metadata": {},
   "outputs": [
    {
     "data": {
      "text/plain": [
       "spam    747\n",
       "ham     747\n",
       "Name: Category, dtype: int64"
      ]
     },
     "execution_count": 11,
     "metadata": {},
     "output_type": "execute_result"
    }
   ],
   "source": [
    "df_balance['Category'].value_counts()"
   ]
  },
  {
   "cell_type": "code",
   "execution_count": 12,
   "id": "282b69b5-329c-4ad0-ab56-703969f069a4",
   "metadata": {},
   "outputs": [],
   "source": [
    "df_balance['Spam'] = df['Category'].apply(lambda x : 1 if x== 'spam' else 0) "
   ]
  },
  {
   "cell_type": "code",
   "execution_count": 13,
   "id": "61fd0bc9-f507-4856-80cd-814e8e9af2a8",
   "metadata": {},
   "outputs": [
    {
     "data": {
      "text/html": [
       "<div>\n",
       "<style scoped>\n",
       "    .dataframe tbody tr th:only-of-type {\n",
       "        vertical-align: middle;\n",
       "    }\n",
       "\n",
       "    .dataframe tbody tr th {\n",
       "        vertical-align: top;\n",
       "    }\n",
       "\n",
       "    .dataframe thead th {\n",
       "        text-align: right;\n",
       "    }\n",
       "</style>\n",
       "<table border=\"1\" class=\"dataframe\">\n",
       "  <thead>\n",
       "    <tr style=\"text-align: right;\">\n",
       "      <th></th>\n",
       "      <th>Category</th>\n",
       "      <th>Message</th>\n",
       "      <th>Spam</th>\n",
       "    </tr>\n",
       "  </thead>\n",
       "  <tbody>\n",
       "    <tr>\n",
       "      <th>4310</th>\n",
       "      <td>ham</td>\n",
       "      <td>He dint tell anything. He is angry on me that ...</td>\n",
       "      <td>0</td>\n",
       "    </tr>\n",
       "    <tr>\n",
       "      <th>851</th>\n",
       "      <td>ham</td>\n",
       "      <td>U reach orchard already? U wan 2 go buy ticket...</td>\n",
       "      <td>0</td>\n",
       "    </tr>\n",
       "    <tr>\n",
       "      <th>2300</th>\n",
       "      <td>spam</td>\n",
       "      <td>Congrats! 1 year special cinema pass for 2 is ...</td>\n",
       "      <td>1</td>\n",
       "    </tr>\n",
       "    <tr>\n",
       "      <th>2850</th>\n",
       "      <td>spam</td>\n",
       "      <td>YOUR CHANCE TO BE ON A REALITY FANTASY SHOW ca...</td>\n",
       "      <td>1</td>\n",
       "    </tr>\n",
       "    <tr>\n",
       "      <th>4079</th>\n",
       "      <td>ham</td>\n",
       "      <td>Gam gone after outstanding innings.</td>\n",
       "      <td>0</td>\n",
       "    </tr>\n",
       "  </tbody>\n",
       "</table>\n",
       "</div>"
      ],
      "text/plain": [
       "     Category                                            Message  Spam\n",
       "4310      ham  He dint tell anything. He is angry on me that ...     0\n",
       "851       ham  U reach orchard already? U wan 2 go buy ticket...     0\n",
       "2300     spam  Congrats! 1 year special cinema pass for 2 is ...     1\n",
       "2850     spam  YOUR CHANCE TO BE ON A REALITY FANTASY SHOW ca...     1\n",
       "4079      ham                Gam gone after outstanding innings.     0"
      ]
     },
     "execution_count": 13,
     "metadata": {},
     "output_type": "execute_result"
    }
   ],
   "source": [
    "df_balance.sample(5)"
   ]
  },
  {
   "cell_type": "code",
   "execution_count": 14,
   "id": "9f3caaca-cda6-4acf-9fe0-3cd87c94a6bd",
   "metadata": {},
   "outputs": [],
   "source": [
    "from sklearn.model_selection import train_test_split\n",
    "\n",
    "X_train,X_test, y_train,y_test = train_test_split(df_balance['Message'],\n",
    "                                                  df_balance['Spam'],\n",
    "                                                  test_size=0.2,\n",
    "                                                  shuffle=True,stratify=df_balance['Spam'])\n"
   ]
  },
  {
   "cell_type": "code",
   "execution_count": 15,
   "id": "52a85b83-8b25-48ef-8498-747dbc9b8a59",
   "metadata": {},
   "outputs": [
    {
     "data": {
      "text/plain": [
       "(1195,)"
      ]
     },
     "execution_count": 15,
     "metadata": {},
     "output_type": "execute_result"
    }
   ],
   "source": [
    "X_train.shape"
   ]
  },
  {
   "cell_type": "code",
   "execution_count": 16,
   "id": "ccc85bda-55db-4658-8613-f11ca269b2e3",
   "metadata": {},
   "outputs": [
    {
     "data": {
      "text/plain": [
       "(299,)"
      ]
     },
     "execution_count": 16,
     "metadata": {},
     "output_type": "execute_result"
    }
   ],
   "source": [
    "X_test.shape"
   ]
  },
  {
   "cell_type": "code",
   "execution_count": 17,
   "id": "fa48ac9c-e7e1-4c66-8829-d399472766f5",
   "metadata": {},
   "outputs": [],
   "source": [
    "bert_preprocess = hub.KerasLayer('https://tfhub.dev/tensorflow/bert_en_uncased_preprocess/3')\n",
    "bert_encoder = hub.KerasLayer('https://tfhub.dev/tensorflow/bert_en_uncased_L-12_H-768_A-12/4')"
   ]
  },
  {
   "cell_type": "code",
   "execution_count": 18,
   "id": "088099fe-1864-44fa-a990-18c61f9ebad3",
   "metadata": {},
   "outputs": [],
   "source": [
    "def get_sentence_embeding(sentance):\n",
    "    processed_text = bert_preprocess(sentance)\n",
    "    return bert_encoder(processed_text)['pooled_output']"
   ]
  },
  {
   "cell_type": "code",
   "execution_count": 19,
   "id": "5a720274-b05d-4907-80b2-744271b2315c",
   "metadata": {},
   "outputs": [
    {
     "data": {
      "text/plain": [
       "<tf.Tensor: shape=(2, 768), dtype=float32, numpy=\n",
       "array([[-0.84351707, -0.5132727 , -0.8884575 , ..., -0.747489  ,\n",
       "        -0.7531475 ,  0.91964495],\n",
       "       [-0.8720837 , -0.5054398 , -0.94446695, ..., -0.8584751 ,\n",
       "        -0.71745366,  0.88082975]], dtype=float32)>"
      ]
     },
     "execution_count": 19,
     "metadata": {},
     "output_type": "execute_result"
    }
   ],
   "source": [
    "get_sentence_embeding([\n",
    "    \"500$ discount. hurry up\", \n",
    "    \"Bhavin, are you up for a volleybal game tomorrow?\"\n",
    "])"
   ]
  },
  {
   "cell_type": "markdown",
   "id": "a4d53af4-6797-4e4f-9621-ffd895aebadf",
   "metadata": {},
   "source": [
    "## Building  Model"
   ]
  },
  {
   "cell_type": "code",
   "execution_count": 20,
   "id": "72dd1683-a945-4dcf-82c7-b66e6511fd7e",
   "metadata": {},
   "outputs": [],
   "source": [
    "import tensorflow as tf\n",
    "from keras.models import Model\n",
    "from keras.layers import Input,Dropout,Dense"
   ]
  },
  {
   "cell_type": "code",
   "execution_count": 21,
   "id": "bdab8969-00a5-4de5-b15a-2dbc1b59d18b",
   "metadata": {},
   "outputs": [],
   "source": [
    "input_text = Input(shape=(),dtype=tf.string,name='text')\n",
    "preprocessed_text = bert_preprocess(input_text)\n",
    "output = bert_encoder(preprocessed_text)\n",
    "\n",
    "l = Dropout(0.2)(output['pooled_output'])\n",
    "l = Dense(1,activation = 'sigmoid')(l)\n",
    "\n",
    "model = Model(input_text,l)\n"
   ]
  },
  {
   "cell_type": "code",
   "execution_count": 22,
   "id": "61bde0aa-6767-41af-96f6-e59e79f1aa46",
   "metadata": {},
   "outputs": [
    {
     "name": "stdout",
     "output_type": "stream",
     "text": [
      "Model: \"model\"\n",
      "__________________________________________________________________________________________________\n",
      " Layer (type)                   Output Shape         Param #     Connected to                     \n",
      "==================================================================================================\n",
      " text (InputLayer)              [(None,)]            0           []                               \n",
      "                                                                                                  \n",
      " keras_layer (KerasLayer)       {'input_word_ids':   0           ['text[0][0]']                   \n",
      "                                (None, 128),                                                      \n",
      "                                 'input_mask': (Non                                               \n",
      "                                e, 128),                                                          \n",
      "                                 'input_type_ids':                                                \n",
      "                                (None, 128)}                                                      \n",
      "                                                                                                  \n",
      " keras_layer_1 (KerasLayer)     {'default': (None,   109482241   ['keras_layer[0][0]',            \n",
      "                                768),                             'keras_layer[0][1]',            \n",
      "                                 'pooled_output': (               'keras_layer[0][2]']            \n",
      "                                None, 768),                                                       \n",
      "                                 'encoder_outputs':                                               \n",
      "                                 [(None, 128, 768),                                               \n",
      "                                 (None, 128, 768),                                                \n",
      "                                 (None, 128, 768),                                                \n",
      "                                 (None, 128, 768),                                                \n",
      "                                 (None, 128, 768),                                                \n",
      "                                 (None, 128, 768),                                                \n",
      "                                 (None, 128, 768),                                                \n",
      "                                 (None, 128, 768),                                                \n",
      "                                 (None, 128, 768),                                                \n",
      "                                 (None, 128, 768),                                                \n",
      "                                 (None, 128, 768),                                                \n",
      "                                 (None, 128, 768)],                                               \n",
      "                                 'sequence_output':                                               \n",
      "                                 (None, 128, 768)}                                                \n",
      "                                                                                                  \n",
      " dropout (Dropout)              (None, 768)          0           ['keras_layer_1[0][13]']         \n",
      "                                                                                                  \n",
      " dense (Dense)                  (None, 1)            769         ['dropout[0][0]']                \n",
      "                                                                                                  \n",
      "==================================================================================================\n",
      "Total params: 109,483,010\n",
      "Trainable params: 769\n",
      "Non-trainable params: 109,482,241\n",
      "__________________________________________________________________________________________________\n"
     ]
    }
   ],
   "source": [
    "model.summary()"
   ]
  },
  {
   "cell_type": "code",
   "execution_count": 23,
   "id": "ddfc4332-8e11-4065-8b8d-7b0de180fd50",
   "metadata": {},
   "outputs": [],
   "source": [
    "matrix = [\n",
    "    tf.keras.metrics.BinaryAccuracy(),\n",
    "    tf.keras.metrics.Precision(),\n",
    "    tf.keras.metrics.Recall(),\n",
    "]\n",
    "\n",
    "model.compile(optimizer='adam',loss='binary_crossentropy',metrics=matrix)\n"
   ]
  },
  {
   "cell_type": "code",
   "execution_count": 24,
   "id": "0863da4e-bd0f-4af6-9c67-5a089b3bc5e7",
   "metadata": {},
   "outputs": [
    {
     "name": "stdout",
     "output_type": "stream",
     "text": [
      "Epoch 1/10\n",
      "38/38 [==============================] - 43s 906ms/step - loss: 0.6089 - binary_accuracy: 0.6661 - precision: 0.6639 - recall: 0.6717\n",
      "Epoch 2/10\n",
      "38/38 [==============================] - 34s 906ms/step - loss: 0.4915 - binary_accuracy: 0.7992 - precision: 0.7820 - recall: 0.8291\n",
      "Epoch 3/10\n",
      "38/38 [==============================] - 34s 904ms/step - loss: 0.4334 - binary_accuracy: 0.8444 - precision: 0.8288 - recall: 0.8677\n",
      "Epoch 4/10\n",
      "38/38 [==============================] - 34s 900ms/step - loss: 0.3955 - binary_accuracy: 0.8536 - precision: 0.8349 - recall: 0.8811\n",
      "Epoch 5/10\n",
      "38/38 [==============================] - 35s 910ms/step - loss: 0.3655 - binary_accuracy: 0.8611 - precision: 0.8448 - recall: 0.8844\n",
      "Epoch 6/10\n",
      "38/38 [==============================] - 35s 915ms/step - loss: 0.3544 - binary_accuracy: 0.8644 - precision: 0.8560 - recall: 0.8760\n",
      "Epoch 7/10\n",
      "38/38 [==============================] - 35s 915ms/step - loss: 0.3251 - binary_accuracy: 0.8820 - precision: 0.8689 - recall: 0.8995\n",
      "Epoch 8/10\n",
      "38/38 [==============================] - 35s 917ms/step - loss: 0.3118 - binary_accuracy: 0.8912 - precision: 0.8772 - recall: 0.9095\n",
      "Epoch 9/10\n",
      "38/38 [==============================] - 35s 915ms/step - loss: 0.2992 - binary_accuracy: 0.8937 - precision: 0.8840 - recall: 0.9062\n",
      "Epoch 10/10\n",
      "38/38 [==============================] - 35s 913ms/step - loss: 0.2974 - binary_accuracy: 0.8912 - precision: 0.8760 - recall: 0.9112\n"
     ]
    },
    {
     "data": {
      "text/plain": [
       "<keras.callbacks.History at 0x24b1fd53100>"
      ]
     },
     "execution_count": 24,
     "metadata": {},
     "output_type": "execute_result"
    }
   ],
   "source": [
    "tensorboard_callback = tf.keras.callbacks.TensorBoard(log_dir=\"./logs\")\n",
    "\n",
    "model.fit(X_train,y_train,epochs=10,callbacks=[tensorboard_callback])"
   ]
  },
  {
   "cell_type": "code",
   "execution_count": 25,
   "id": "e2e4b00d-07e3-4b9c-908b-e346e3cd0324",
   "metadata": {},
   "outputs": [
    {
     "name": "stdout",
     "output_type": "stream",
     "text": [
      "10/10 [==============================] - 10s 859ms/step - loss: 0.2652 - binary_accuracy: 0.8963 - precision: 0.8650 - recall: 0.9400\n"
     ]
    },
    {
     "data": {
      "text/plain": [
       "[0.26515647768974304,\n",
       " 0.8963210582733154,\n",
       " 0.8650306463241577,\n",
       " 0.9399999976158142]"
      ]
     },
     "execution_count": 25,
     "metadata": {},
     "output_type": "execute_result"
    }
   ],
   "source": [
    "model.evaluate(X_test,y_test)"
   ]
  },
  {
   "cell_type": "code",
   "execution_count": 26,
   "id": "28ce8d2d-c20e-4693-8242-dbd91fd9c78b",
   "metadata": {},
   "outputs": [
    {
     "name": "stdout",
     "output_type": "stream",
     "text": [
      "10/10 [==============================] - 9s 909ms/step\n"
     ]
    }
   ],
   "source": [
    "pred = model.predict(X_test)\n",
    "pred = pred.flatten()"
   ]
  },
  {
   "cell_type": "code",
   "execution_count": 27,
   "id": "3f758004-ea24-4ed1-a11e-ab426c5542fd",
   "metadata": {},
   "outputs": [
    {
     "data": {
      "text/plain": [
       "array([0, 0, 1, 0, 1, 1, 1, 1, 0, 1, 0, 0, 0, 0, 1, 0, 1, 1, 1, 1, 1, 0,\n",
       "       0, 1, 1, 1, 1, 0, 0, 1, 0, 1, 0, 0, 1, 1, 1, 1, 0, 1, 1, 0, 1, 0,\n",
       "       0, 1, 0, 1, 0, 0, 0, 1, 1, 0, 1, 0, 1, 0, 1, 1, 1, 1, 0, 0, 1, 0,\n",
       "       1, 1, 0, 0, 1, 1, 0, 0, 1, 1, 0, 0, 1, 1, 1, 0, 1, 1, 0, 1, 0, 1,\n",
       "       0, 1, 1, 1, 1, 0, 1, 1, 0, 0, 0, 0, 1, 0, 1, 0, 1, 0, 1, 0, 0, 1,\n",
       "       1, 0, 1, 1, 0, 0, 1, 0, 1, 0, 0, 1, 1, 1, 0, 0, 1, 1, 1, 1, 1, 0,\n",
       "       0, 1, 1, 1, 0, 1, 0, 1, 1, 1, 1, 1, 1, 1, 1, 1, 1, 0, 1, 0, 0, 0,\n",
       "       1, 0, 0, 0, 1, 1, 1, 1, 0, 0, 1, 0, 1, 0, 1, 0, 1, 1, 0, 0, 0, 1,\n",
       "       0, 0, 1, 1, 1, 1, 1, 1, 1, 0, 1, 0, 1, 1, 0, 0, 1, 1, 0, 0, 1, 0,\n",
       "       0, 1, 0, 1, 1, 0, 0, 1, 0, 0, 0, 1, 1, 1, 1, 1, 0, 0, 0, 0, 0, 1,\n",
       "       1, 1, 1, 0, 0, 0, 0, 0, 1, 1, 1, 1, 1, 0, 0, 1, 0, 1, 1, 1, 0, 1,\n",
       "       0, 1, 1, 0, 1, 0, 1, 1, 1, 1, 1, 1, 1, 0, 0, 1, 0, 1, 0, 0, 0, 0,\n",
       "       1, 1, 0, 1, 0, 1, 1, 0, 1, 1, 0, 0, 1, 1, 0, 1, 0, 1, 0, 1, 1, 0,\n",
       "       0, 0, 0, 1, 0, 0, 0, 0, 1, 0, 0, 0, 1])"
      ]
     },
     "execution_count": 27,
     "metadata": {},
     "output_type": "execute_result"
    }
   ],
   "source": [
    "import numpy as np\n",
    "\n",
    "pred = np.where(pred > 0.5, 1, 0)\n",
    "pred"
   ]
  },
  {
   "cell_type": "code",
   "execution_count": 28,
   "id": "2d90eadd-d800-4fe3-81c1-df4d409ba42b",
   "metadata": {},
   "outputs": [
    {
     "name": "stdout",
     "output_type": "stream",
     "text": [
      "              precision    recall  f1-score   support\n",
      "\n",
      "           0       0.93      0.85      0.89       149\n",
      "           1       0.87      0.94      0.90       150\n",
      "\n",
      "    accuracy                           0.90       299\n",
      "   macro avg       0.90      0.90      0.90       299\n",
      "weighted avg       0.90      0.90      0.90       299\n",
      "\n"
     ]
    }
   ],
   "source": [
    "from sklearn.metrics import classification_report\n",
    "\n",
    "print(classification_report(y_test,pred))\n"
   ]
  }
 ],
 "metadata": {
  "kernelspec": {
   "display_name": "Python 3 (ipykernel)",
   "language": "python",
   "name": "python3"
  },
  "language_info": {
   "codemirror_mode": {
    "name": "ipython",
    "version": 3
   },
   "file_extension": ".py",
   "mimetype": "text/x-python",
   "name": "python",
   "nbconvert_exporter": "python",
   "pygments_lexer": "ipython3",
   "version": "3.8.13"
  }
 },
 "nbformat": 4,
 "nbformat_minor": 5
}
